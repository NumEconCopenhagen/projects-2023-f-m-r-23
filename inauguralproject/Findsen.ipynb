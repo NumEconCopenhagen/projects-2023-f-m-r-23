{
 "cells": [
  {
   "cell_type": "code",
   "execution_count": 1,
   "id": "b78a8044-eb03-4925-a4a2-c193580659f7",
   "metadata": {},
   "outputs": [],
   "source": [
    "from HouseholdSpecializationModelFindsen import HouseholdSpecializationModelClass\n",
    "import numpy as np\n",
    "import pandas as pd\n",
    "import copy\n",
    "import matplotlib.pyplot as plt\n",
    "\n",
    "%load_ext autoreload\n",
    "%autoreload 2"
   ]
  },
  {
   "cell_type": "markdown",
   "id": "657ea573",
   "metadata": {},
   "source": [
    "# Question 1\n",
    "We loop over different values of $\\alpha$ and $\\sigma$"
   ]
  },
  {
   "cell_type": "code",
   "execution_count": 2,
   "id": "e2dd0922-0878-46cd-8508-0db1d903bd87",
   "metadata": {},
   "outputs": [
    {
     "name": "stderr",
     "output_type": "stream",
     "text": [
      "/Users/frederikfindsen/Documents/Økonomi/10. Semester/Introduction to Numerical Program/projects-2023-f-m-r-23/inauguralproject/HouseholdSpecializationModelFindsen.py:69: RuntimeWarning: divide by zero encountered in reciprocal\n",
      "  H = ((1-alpha)*HM**((sigma-1)/sigma)+alpha*HF**((sigma-1)/sigma))**(sigma/(sigma-1))\n"
     ]
    }
   ],
   "source": [
    "#Setting up household\n",
    "model = HouseholdSpecializationModelClass()\n",
    "\n",
    "par = model.par\n",
    "sol = model.sol\n",
    "\n",
    "#Creating arrays for alpha and sigma\n",
    "alpha_vec = np.array([0.25,0.50,0.75])\n",
    "sigma_vec = np.array([0.5,1,1.5])\n",
    "\n",
    "out = np.zeros((len(alpha_vec),len(sigma_vec)))\n",
    "\n",
    "for i_a, a in enumerate(alpha_vec):\n",
    "    for i_s ,s in enumerate(sigma_vec):\n",
    "        \n",
    "        opt = model.solve_discrete(alpha=a,sigma=s)\n",
    "        \n",
    "        out[i_a,i_s]=opt.HF/opt.HM"
   ]
  },
  {
   "cell_type": "markdown",
   "id": "ba2765d2",
   "metadata": {},
   "source": [
    "# Question 2"
   ]
  },
  {
   "cell_type": "code",
   "execution_count": 3,
   "id": "a8fbca26",
   "metadata": {},
   "outputs": [],
   "source": [
    "model.solve_wF_vec(discrete=True)\n",
    "lH_vec_disc = par.lH_vec.copy()"
   ]
  },
  {
   "cell_type": "markdown",
   "id": "57728ce5",
   "metadata": {},
   "source": [
    "# Question 3"
   ]
  },
  {
   "cell_type": "code",
   "execution_count": 4,
   "id": "ea77ac72",
   "metadata": {},
   "outputs": [],
   "source": [
    "model.solve_wF_vec(discrete=False)\n",
    "lH_vec_cont = par.lH_vec.copy()"
   ]
  },
  {
   "cell_type": "code",
   "execution_count": 5,
   "id": "3e4cb4dd-5788-4396-a4f7-4a54c0f1bc9e",
   "metadata": {},
   "outputs": [
    {
     "data": {
      "image/png": "[encoded data removed]",
      "text/plain": [
       "<Figure size 600x400 with 1 Axes>"
      ]
     },
     "metadata": {
      "needs_background": "light"
     },
     "output_type": "display_data"
    }
   ],
   "source": [
    "fig, ax = plt.subplots(dpi=100)\n",
    "\n",
    "ax.plot(par.lw_vec,lH_vec_disc,label='Discrete')\n",
    "ax.plot(par.lw_vec,lH_vec_cont,label='Continuous')\n",
    "ax.set_ylabel(r'$\\log\\frac{H_F}{H_M}$',rotation=0)\n",
    "ax.set_xlabel(r'$\\log\\frac{w_F}{w_M}$')\n",
    "\n",
    "plt.legend()\n",
    "plt.show()"
   ]
  },
  {
   "cell_type": "code",
   "execution_count": 6,
   "id": "707ac1f2-4597-40f2-aa11-b4608ddd248e",
   "metadata": {},
   "outputs": [],
   "source": [
    "model.run_regression()"
   ]
  },
  {
   "cell_type": "markdown",
   "id": "45fe5a75-52c5-4e4e-8b55-ec7d5a9e96d5",
   "metadata": {},
   "source": [
    "# Question 4"
   ]
  },
  {
   "cell_type": "code",
   "execution_count": 7,
   "id": "ae743ee9-5ce3-4a31-934c-2464ab58693a",
   "metadata": {},
   "outputs": [
    {
     "name": "stderr",
     "output_type": "stream",
     "text": [
      "/Users/frederikfindsen/Documents/Økonomi/10. Semester/Introduction to Numerical Program/projects-2023-f-m-r-23/inauguralproject/HouseholdSpecializationModelFindsen.py:69: RuntimeWarning: divide by zero encountered in double_scalars\n",
      "  H = ((1-alpha)*HM**((sigma-1)/sigma)+alpha*HF**((sigma-1)/sigma))**(sigma/(sigma-1))\n",
      "/Users/frederikfindsen/Documents/Økonomi/10. Semester/Introduction to Numerical Program/projects-2023-f-m-r-23/inauguralproject/HouseholdSpecializationModelFindsen.py:69: RuntimeWarning: invalid value encountered in double_scalars\n",
      "  H = ((1-alpha)*HM**((sigma-1)/sigma)+alpha*HF**((sigma-1)/sigma))**(sigma/(sigma-1))\n"
     ]
    },
    {
     "name": "stdout",
     "output_type": "stream",
     "text": [
      "Optimization terminated successfully.\n",
      "alpha_hat: 0.9883\n",
      "sigma_hat: 0.0908\n",
      "beta0_hat: 0.4000\n",
      "beta1_hat: -0.0999\n",
      "Termination value: 0.0000\n"
     ]
    }
   ],
   "source": [
    "model.estimate(do_print=True)"
   ]
  },
  {
   "cell_type": "markdown",
   "id": "e9da8340-66e9-44b3-952b-bad35aba46f7",
   "metadata": {},
   "source": [
    "$\\frac{Q^{1-\\rho}}{1-\\rho} - \\nu\\Bigg(\\frac{T_M^{1+\\frac{1}{\\epsilon}}}{1+\\frac{1}{\\epsilon}} + \\frac{T_F^{1+\\frac{1}{\\epsilon}}}{1+\\frac{1}{\\epsilon}} + \\delta(L_F-\\mu)^2\\Bigg)$"
   ]
  },
  {
   "cell_type": "markdown",
   "id": "502d576a-2ecd-4d23-aa88-e18a68c09011",
   "metadata": {},
   "source": [
    "# Question 5"
   ]
  },
  {
   "cell_type": "code",
   "execution_count": 8,
   "id": "6cc38ecf-3403-41ab-8428-08a86ef4e547",
   "metadata": {},
   "outputs": [],
   "source": [
    "par.dummy = 1\n",
    "par.alpha = 0.5"
   ]
  },
  {
   "cell_type": "code",
   "execution_count": 58,
   "id": "bd402667-05b8-4c59-b2aa-6c8f35f73706",
   "metadata": {
    "tags": []
   },
   "outputs": [
    {
     "name": "stdout",
     "output_type": "stream",
     "text": [
      "Optimization terminated successfully.\n",
      "sigma_hat: 0.9136\n",
      "mu_hat: 10.0428\n",
      "beta0_hat: 0.4082\n",
      "beta1_hat: -0.0866\n",
      "Termination value: 0.0002\n"
     ]
    }
   ],
   "source": [
    "min_tol= model.estimate_(do_print=True)"
   ]
  },
  {
   "cell_type": "code",
   "execution_count": 64,
   "id": "5da6a831-8ce6-467a-a4a7-6787ef0b1c67",
   "metadata": {},
   "outputs": [],
   "source": [
    "\n",
    "par.mu = 10.0428\n",
    "par.sigma = 0.9136\n",
    "model.solve_wF_vec(discrete=False)\n"
   ]
  },
  {
   "cell_type": "code",
   "execution_count": 65,
   "id": "61e50011-85ad-49bd-b395-fbf9e09d7570",
   "metadata": {},
   "outputs": [
    {
     "data": {
      "text/plain": [
       "array([3.84911024, 3.88110269, 3.91753991, 3.95049177, 3.96946026])"
      ]
     },
     "execution_count": 65,
     "metadata": {},
     "output_type": "execute_result"
    }
   ],
   "source": [
    "sol.HM_vec"
   ]
  },
  {
   "cell_type": "code",
   "execution_count": 66,
   "id": "e2903edc-a337-4843-83bc-54e1af28a60d",
   "metadata": {},
   "outputs": [
    {
     "data": {
      "text/plain": [
       "array([5.8909753 , 5.90267376, 5.89987379, 5.88792767, 5.87276589])"
      ]
     },
     "execution_count": 66,
     "metadata": {},
     "output_type": "execute_result"
    }
   ],
   "source": [
    "sol.HF_vec"
   ]
  },
  {
   "cell_type": "code",
   "execution_count": 67,
   "id": "7cfc3a97-4352-4bb9-bb99-3c28a6d996e4",
   "metadata": {},
   "outputs": [
    {
     "data": {
      "text/plain": [
       "array([7.030783  , 6.91127738, 6.79837092, 6.69233582, 6.5944426 ])"
      ]
     },
     "execution_count": 67,
     "metadata": {},
     "output_type": "execute_result"
    }
   ],
   "source": [
    "sol.LM_vec"
   ]
  },
  {
   "cell_type": "code",
   "execution_count": 68,
   "id": "fd26717c-9bdf-4f1c-aefa-ab41f49bec81",
   "metadata": {},
   "outputs": [
    {
     "data": {
      "text/plain": [
       "array([0.83655122, 0.87672663, 0.90362923, 0.92495502, 0.94096209])"
      ]
     },
     "execution_count": 68,
     "metadata": {},
     "output_type": "execute_result"
    }
   ],
   "source": [
    "sol.LF_vec"
   ]
  },
  {
   "cell_type": "code",
   "execution_count": null,
   "id": "e527e1ff-5598-40cc-83fd-052780ad4224",
   "metadata": {},
   "outputs": [],
   "source": []
  }
 ],
 "metadata": {
  "kernelspec": {
   "display_name": "Python 3 (ipykernel)",
   "language": "python",
   "name": "python3"
  },
  "language_info": {
   "codemirror_mode": {
    "name": "ipython",
    "version": 3
   },
   "file_extension": ".py",
   "mimetype": "text/x-python",
   "name": "python",
   "nbconvert_exporter": "python",
   "pygments_lexer": "ipython3",
   "version": "3.8.12"
  }
 },
 "nbformat": 4,
 "nbformat_minor": 5
}
