{
 "cells": [
  {
   "attachments": {},
   "cell_type": "markdown",
   "metadata": {},
   "source": [
    "**Table of contents**<a id='toc0_'></a>    \n",
    "- 1. [Problem 1: Optimal taxation with government consumption](#toc1_)    \n",
    "- 2. [Problem 2: Labor adjustment costs](#toc2_)    \n",
    "- 3. [Problem 3: Global optimizer with refined multi-start](#toc3_)    \n",
    "\n",
    "<!-- vscode-jupyter-toc-config\n",
    "\tnumbering=true\n",
    "\tanchor=true\n",
    "\tflat=false\n",
    "\tminLevel=2\n",
    "\tmaxLevel=6\n",
    "\t/vscode-jupyter-toc-config -->\n",
    "<!-- THIS CELL WILL BE REPLACED ON TOC UPDATE. DO NOT WRITE YOUR TEXT IN THIS CELL -->"
   ]
  },
  {
   "cell_type": "code",
   "execution_count": 1,
   "metadata": {},
   "outputs": [],
   "source": [
    "# write your code here\n",
    "\n",
    "import numpy as np\n",
    "import sympy as sm\n",
    "import matplotlib.pyplot as plt\n",
    "from IPython.display import display, Math\n",
    "from types import SimpleNamespace\n",
    "from scipy.optimize import minimize, minimize_scalar, brentq\n",
    "\n",
    "# autoreload modules when code is run\n",
    "%load_ext autoreload\n",
    "%autoreload 2\n",
    "\n",
    "#Problem 1\n",
    "from working_class import working_class\n",
    "\n",
    "# Problem 2\n",
    "from Labor_Cost_class import Labor_Cost_class"
   ]
  },
  {
   "attachments": {},
   "cell_type": "markdown",
   "metadata": {},
   "source": [
    "## 1. <a id='toc1_'></a>[Problem 1: Optimal taxation with government consumption](#toc0_)"
   ]
  },
  {
   "attachments": {},
   "cell_type": "markdown",
   "metadata": {},
   "source": [
    "\n",
    "Consider a worker choosing hours of labor, $L\\in[0,24]$, to maximize utility: \n",
    "\n",
    "$$\n",
    "\\begin{align*}\n",
    "V(w,\\tau,G)&=\\max_{L\\in[0,24]}\\ln\\left(C^{\\alpha}G^{1-\\alpha}\\right)-\\nu\\frac{L^{2}}{2}\\\\&\\text{s.t.}\\\\&C=\\kappa+(1-\\tau)wL\n",
    "\\end{align*}\n",
    "$$\n",
    "\n",
    "where \n",
    "\n",
    "* $C$ is *private* consumption with weight $\\alpha\\in(0,1)$.\n",
    "* $\\kappa > 0$ is the *free private* consumption component.\n",
    "* $C = (1-\\tau)wL$ is the *costly private* consumption component.\n",
    "* $w > 0 $ is the real wage.\n",
    "* $\\tau \\in (0,1)$ is the labor-income tax rate.\n",
    "* $G > 0 $ is *government* consumption with weight $1-\\alpha$.\n",
    "* $\\nu > 0$ is the disutility of labor scaling factor"
   ]
  },
  {
   "attachments": {},
   "cell_type": "markdown",
   "metadata": {},
   "source": [
    "\n",
    "The baseline parameters are:\n",
    "\n",
    "$$\n",
    "\\begin{align*}\n",
    "\\alpha &= 0.5\\\\\n",
    "\\kappa &= 1.0\\\\\n",
    "\\nu &= \\frac{1}{2\\cdot16^2} \\\\\n",
    "w &= 1.0 \\\\ \n",
    "\\tau &= 0.30 \\\\\n",
    "\\end{align*}\n",
    "$$"
   ]
  },
  {
   "attachments": {},
   "cell_type": "markdown",
   "metadata": {},
   "source": [
    "**Question 1:** Verify that the optimal labor supply choice is $L^{\\star}(\\tilde{w}) =\\frac{-\\kappa+\\sqrt{\\kappa^{2}+4\\frac{\\alpha}{\\nu}\\tilde{w}^2}}{2\\tilde{w}}$, where $\\tilde{w} = (1-\\tau)w$, for $G\\in\\left\\{1.0 , 2.0\\right\\}$."
   ]
  },
  {
   "cell_type": "code",
   "execution_count": 2,
   "metadata": {},
   "outputs": [
    {
     "name": "stdout",
     "output_type": "stream",
     "text": [
      "True for G=1\n",
      "True for G=2\n"
     ]
    }
   ],
   "source": [
    "model_q1 = working_class()\n",
    "\n",
    "par = model_q1.par # SimpeNamespace\n",
    "\n",
    "#Check for G=1\n",
    "par.G = 1.0\n",
    "\n",
    "opt = model_q1.solve()\n",
    "if round(opt.L,2) == round(model_q1.analytical_sol(1),2):\n",
    "    print('True for G=1')\n",
    "    \n",
    "#Check for G=2\n",
    "par.G = 2.0\n",
    "opt = model_q1.solve()\n",
    "if round(opt.L,2) == round(model_q1.analytical_sol(1),2):\n",
    "    print('True for G=2')"
   ]
  },
  {
   "attachments": {},
   "cell_type": "markdown",
   "metadata": {},
   "source": [
    "**Question 2:** Illustrate how $L^{\\star}(\\tilde{w})$ depends on $w$."
   ]
  },
  {
   "cell_type": "code",
   "execution_count": 3,
   "metadata": {},
   "outputs": [],
   "source": [
    "# write your code here\n",
    "\n"
   ]
  },
  {
   "attachments": {},
   "cell_type": "markdown",
   "metadata": {},
   "source": [
    "\n",
    "We now consider a government, who chooses $\\tau$ and spend all of the taxes on government consumption so:\n",
    "\n",
    "$$\n",
    "G = \\tau w L^{\\star}((1-\\tau)w)\n",
    "$$\n",
    "\n",
    "**Question 3:** Plot the implied $L$, $G$ and worker utility for a grid of $\\tau$-values.\n"
   ]
  },
  {
   "cell_type": "code",
   "execution_count": 4,
   "metadata": {},
   "outputs": [],
   "source": [
    "# write your code here\n",
    "\n"
   ]
  },
  {
   "attachments": {},
   "cell_type": "markdown",
   "metadata": {},
   "source": [
    "**Question 4:** Find the socially optimal tax rate $\\tau^{\\star}\\in(0,1)$ maximizing worker utility. Illustrate your result."
   ]
  },
  {
   "attachments": {},
   "cell_type": "markdown",
   "metadata": {},
   "source": [
    "We assume that L does not change with government spending, thus we solve by finding the optimal wage for a given G, and then use that to find the optimal tax rate. The inution could be that the goverment sends out money at the end of the year, and the agents do not know how much before they choose their optimal labor."
   ]
  },
  {
   "cell_type": "code",
   "execution_count": 5,
   "metadata": {},
   "outputs": [
    {
     "name": "stdout",
     "output_type": "stream",
     "text": [
      "The optimal tax-rate is: 0.34\n"
     ]
    }
   ],
   "source": [
    "# write your code here\n",
    "model_q4 = working_class()\n",
    "\n",
    "par = model_q4.par # SimpeNamespace\n",
    "\n",
    "def obj(x):\n",
    "\n",
    "    par.tau = x # Change tax rate\n",
    "    par.with_G = False \n",
    "    \n",
    "    L = model_q4.solve().L #Getting optimal labour supply\n",
    "    \n",
    "    par.with_G = True # Account for G in the utiltiy\n",
    "    \n",
    "    return -model_q4.utility(L) #Finding  utility\n",
    "\n",
    "\n",
    "#Finding the optimal tax rate\n",
    "res = minimize_scalar(obj, bounds=(0, 1), method='bounded')\n",
    "\n",
    "print('The optimal tax-rate is: ' + str(round(res.x,2)))\n",
    "\n",
    "optimal_tau = res.x"
   ]
  },
  {
   "attachments": {},
   "cell_type": "markdown",
   "metadata": {},
   "source": [
    "A more general preference formulation for the worker is:\n",
    "\n",
    "$$\n",
    "\\begin{align*}\n",
    "\\mathcal{V}(w,\\tau,G)&=\\max_{L\\in[0,24]}\\frac{\\left[ \\left( \\alpha C^{\\frac{\\sigma-1}{\\sigma}}+(1-\\alpha) G^{\\frac{\\sigma-1}{\\sigma}} \\right)^{\\frac{\\sigma}{1-\\sigma} }\\right]^{1-\\rho}-1}{1-\\rho}- \\nu\\frac{L^{1+\\varepsilon}}{1+\\varepsilon},\\,\\,\\,\\varepsilon,\\rho,\\sigma>0,\\,\\,\\,\\rho,\\sigma\\neq1\\\\&\\text{s.t.}\\\\&C=\\kappa+(1-\\tau)wL\n",
    "\\end{align*}    \n",
    "$$\n",
    "\n",
    "Optimal labor supply is now $L^{\\star}(\\tilde{w},G)$."
   ]
  },
  {
   "attachments": {},
   "cell_type": "markdown",
   "metadata": {},
   "source": [
    "Questions 5 and 6 must be answered with the general formulation, and for 2 different set of parameters:\n",
    "\n",
    "- Set 1:  $\\sigma = 1.001$, $\\rho = 1.001$ and $\\varepsilon = 1.0$.\n",
    "- Set 2:  $\\sigma = 1.5$, $\\rho = 1.5$ and $\\varepsilon = 1.0 $."
   ]
  },
  {
   "attachments": {},
   "cell_type": "markdown",
   "metadata": {},
   "source": [
    "**Question 5:** Find the $G$ that solves $G = \\tau w L^{\\star}((1-\\tau)w,G)$ using the $\\tau$ found in question 4.\n",
    "\n",
    "*Hint: First write code that solves the worker problem for given values of $G$ and $\\tau$. Then find the correct G based on this.*"
   ]
  },
  {
   "cell_type": "code",
   "execution_count": 6,
   "metadata": {},
   "outputs": [
    {
     "name": "stdout",
     "output_type": "stream",
     "text": [
      "G solves for first set of parameters:  5.16\n",
      "G solves for second set of parameters:  3.53\n"
     ]
    },
    {
     "name": "stderr",
     "output_type": "stream",
     "text": [
      "c:\\Users\\B051733\\Anaconda3\\envs\\version1\\lib\\site-packages\\scipy\\optimize\\_minimize.py:892: RuntimeWarning: Method 'bounded' does not support relative tolerance in x; defaulting to absolute tolerance.\n",
      "  warn(\"Method 'bounded' does not support relative tolerance in x; \"\n",
      "c:\\Users\\B051733\\Anaconda3\\envs\\version1\\lib\\site-packages\\scipy\\optimize\\_zeros_py.py:784: ComplexWarning: Casting complex values to real discards the imaginary part\n",
      "  r = _zeros._brentq(f, a, b, xtol, rtol, maxiter, args, full_output, disp)\n"
     ]
    }
   ],
   "source": [
    "model_q5 = working_class()\n",
    "\n",
    "par = model_q5.par\n",
    "sol = model_q5.sol\n",
    "\n",
    "\n",
    "par.tau = optimal_tau\n",
    "par.w = 1\n",
    "par.G = 0.01\n",
    "\n",
    "def obj(G):\n",
    "    par.G = G\n",
    "    model_q5.solve_general()\n",
    "        \n",
    "    return par.G-par.tau*par.w*sol.L\n",
    "\n",
    "\n",
    "#Set 1\n",
    "par.sigma = 1.001\n",
    "par.rho = 1.001\n",
    "par.epsilon = 1.0\n",
    "    \n",
    "res_1 = brentq(obj,-100,100)\n",
    "\n",
    "# Set 2\n",
    "par.sigma = 1.5\n",
    "par.rho = 1.5\n",
    "par.epsilon = 1.0\n",
    "\n",
    "res_2 = brentq(obj,-100,100)\n",
    "\n",
    "\n",
    "# Answers \n",
    "\n",
    "print('G solves for first set of parameters: ', str(round(res_1,2)))\n",
    "print('G solves for second set of parameters: ', str(round(res_2,2)))"
   ]
  },
  {
   "attachments": {},
   "cell_type": "markdown",
   "metadata": {},
   "source": [
    "**Question 6:** Find the socially optimal tax rate, $\\tau^{\\star}$, maximizing worker utility, while keeping $G = \\tau w L^{\\star}((1-\\tau)w,G)$."
   ]
  },
  {
   "cell_type": "code",
   "execution_count": 7,
   "metadata": {},
   "outputs": [
    {
     "name": "stdout",
     "output_type": "stream",
     "text": [
      "The optimal tax-rate for Set 1 is: 0.55\n",
      "The optimal tax-rate for Set 2 is: 0.55\n"
     ]
    }
   ],
   "source": [
    "model_q6 = working_class()\n",
    "\n",
    "#Set 1 \n",
    "par = model_q6.par # SimpeNamespace\n",
    "\n",
    "#Set 1 - parameters\n",
    "par.sigma = 1.001\n",
    "par.rho = 1.001\n",
    "par.epsilon = 1.0\n",
    "\n",
    "\n",
    "def obj(x):\n",
    "    par.tau = x #Change tax rate\n",
    "    \n",
    "    def obj(G):\n",
    "        par.G = G\n",
    "        model_q6.solve_general()\n",
    "        \n",
    "        return par.G-par.tau*par.w*sol.L\n",
    "    \n",
    "    res_G = brentq(obj,-100,100)\n",
    "    par.G = res_G\n",
    "    \n",
    "    return -model_q6.utility_general(sol.L) #Finding  utility\n",
    "\n",
    "\n",
    "#Finding the optimal tax rate\n",
    "res_set1 = minimize_scalar(obj, bounds=(0, 1), method='bounded',tol =1e-12)\n",
    "\n",
    "\n",
    "#Set 2\n",
    "\n",
    "#Set 2 - parameters\n",
    "par.sigma = 1.5\n",
    "par.rho = 1.5\n",
    "par.epsilon = 1.0\n",
    "\n",
    "#Finding the optimal tax rate\n",
    "res_set2 = minimize_scalar(obj, bounds=(0, 1), method='bounded')\n",
    "\n",
    "\n",
    "#Answers \n",
    "\n",
    "print('The optimal tax-rate for Set 1 is: ' + str(round(res_set1.x,2)))\n",
    "print('The optimal tax-rate for Set 2 is: ' + str(round(res_set2.x,2)))"
   ]
  },
  {
   "cell_type": "code",
   "execution_count": 8,
   "metadata": {},
   "outputs": [
    {
     "data": {
      "text/plain": [
       " message: Solution found.\n",
       " success: True\n",
       "  status: 0\n",
       "     fun: -1.057195192885369\n",
       "       x: 0.5479265129618968\n",
       "     nit: 8\n",
       "    nfev: 8"
      ]
     },
     "execution_count": 8,
     "metadata": {},
     "output_type": "execute_result"
    }
   ],
   "source": [
    "res_set2"
   ]
  },
  {
   "cell_type": "code",
   "execution_count": 9,
   "metadata": {},
   "outputs": [
    {
     "data": {
      "text/plain": [
       " message: Solution found.\n",
       " success: True\n",
       "  status: 0\n",
       "     fun: -1.6354983879995781\n",
       "       x: 0.5479277059415922\n",
       "     nit: 17\n",
       "    nfev: 17"
      ]
     },
     "execution_count": 9,
     "metadata": {},
     "output_type": "execute_result"
    }
   ],
   "source": [
    "res_set1"
   ]
  },
  {
   "attachments": {},
   "cell_type": "markdown",
   "metadata": {},
   "source": [
    "## 2. <a id='toc2_'></a>[Problem 2: Labor adjustment costs](#toc0_)"
   ]
  },
  {
   "attachments": {},
   "cell_type": "markdown",
   "metadata": {},
   "source": [
    "You own a hair salon. You employ hairdressers, $\\ell_t$, to produce haircuts, $y_t = \\ell_t$.\n",
    "\n",
    "The wage for each haridresser is $w$.\n",
    "\n",
    "The demand for haircuts implies that the price of haircuts you can charge is $p_t = \\kappa_t y_t^{-\\eta}$, where $\\kappa_t$ is a demand-shock and $\\eta \\in (0,1)$ measures the elasticity of demand.\n",
    "\n",
    "Profits are:\n",
    "\n",
    "$$\n",
    "\\Pi_t = p_t y_t - w \\ell_t = \\kappa_t \\ell_t^{1-\\eta} - w \\ell_t\n",
    "$$"
   ]
  },
  {
   "attachments": {},
   "cell_type": "markdown",
   "metadata": {},
   "source": [
    "Baseline parameters are:\n",
    "- $\\eta = 0.5$\n",
    "- $w = 1.0$"
   ]
  },
  {
   "attachments": {},
   "cell_type": "markdown",
   "metadata": {},
   "source": [
    "**Question 1:** Verify numerically that $\\ell_{t}=\\left(\\frac{(1-\\eta)\\kappa_{t}}{w}\\right)^{\\frac{1}{\\eta}}$ maximises profits, for $\\kappa\\in\\left\\{1.0 , 2.0\\right\\}$."
   ]
  },
  {
   "cell_type": "code",
   "execution_count": 10,
   "metadata": {},
   "outputs": [],
   "source": [
    "model = Labor_Cost_class()\n",
    "par = model.par\n",
    "sim = model.sim"
   ]
  },
  {
   "cell_type": "code",
   "execution_count": 11,
   "metadata": {},
   "outputs": [
    {
     "name": "stdout",
     "output_type": "stream",
     "text": [
      "Numerical solution with par.kappa=1.0: 0.250000\n",
      "Analytical solution with par.kappa=1.0: 0.250000\n",
      "Numerical solution with par.kappa=2.0: 1.000000\n",
      "Analytical solution with par.kappa=2.0: 1.000000\n"
     ]
    }
   ],
   "source": [
    "par.kappa = 1.0\n",
    "model.compare_num_ana()\n",
    "\n",
    "par.kappa = 2.0\n",
    "model.compare_num_ana()\n",
    "\n",
    "# resetting kappa\n",
    "par.kappa = 1.0"
   ]
  },
  {
   "attachments": {},
   "cell_type": "markdown",
   "metadata": {},
   "source": [
    "We now consider a *dynamic* version of the model.\n",
    "\n",
    "* The demand-shock is a so-called AR(1) in logs, \n",
    "\n",
    "$$\n",
    "\\log \\kappa_{t} = \\rho \\log \\kappa_{t-1} + \\epsilon_{t},\\,\\,\\, \\epsilon_{t+1} \\sim \\mathcal{N}(-0.5\\sigma_{\\epsilon}^2,\\sigma_{\\epsilon})\n",
    "$$\n",
    "\n",
    "* Any hiring or firing implies a fixed adjustment cost, $\\iota > 0 $.\n",
    "* Future profits are discounted with a monthly factor of $R \\in (0,1)$.\n",
    "\n",
    "The initial demand shock is $\\kappa_{-1} = 1$ and the planning horizon is 10 years, i.e. 120 months so $t \\in \\{0,1,2,\\dots,119\\}$. Initially you don't have any employees, $\\ell_{-1}=0$"
   ]
  },
  {
   "attachments": {},
   "cell_type": "markdown",
   "metadata": {},
   "source": [
    "\n",
    "The *ex post* value of the salon is *conditional* on the shock series is:\n",
    "\n",
    "$$\n",
    "h(\\epsilon_0,\\epsilon_1,\\dots,\\epsilon_{119}) = \\left[\\sum_{t=0}^{119}R^{-t}\\left[\\kappa_{t}\\ell_{t}^{1-\\eta}-w\\ell_{t}-\\boldsymbol{1}_{\\ell_{t}\\neq\\ell_{t-1}}\\iota\\right]\\right]\n",
    "$$\n",
    "\n",
    "The *ex ante* expected value of the salon can be approximated by\n",
    "\n",
    "$$\n",
    "H = \\mathbb{E}[h(\\epsilon_0,\\epsilon_1,\\dots,\\epsilon_{119})] \\approx \\frac{1}{K}\\sum_{k=0}^{K} h(\\epsilon_0^k,\\epsilon_1^k,\\dots,\\epsilon_{119}^k)\n",
    "$$\n",
    "\n",
    "where each $k\\in\\{0,1,\\dots,K-1\\}$ is a random shock series. Maximizing profitability means maximizing $H$.\n"
   ]
  },
  {
   "attachments": {},
   "cell_type": "markdown",
   "metadata": {},
   "source": [
    "Baseline parameters are: \n",
    "\n",
    "- $\\rho = 0.90$\n",
    "- $\\iota = 0.01$\n",
    "- $\\sigma_{\\epsilon} = 0.10$\n",
    "- $R = \\left(1+0.01\\right)^{1/12}$"
   ]
  },
  {
   "attachments": {},
   "cell_type": "markdown",
   "metadata": {},
   "source": [
    "**Question 2:** Calculate $H$ if the policy  $\\ell_{t}=\\left(\\frac{(1-\\eta)\\kappa_{t}}{w}\\right)^{\\frac{1}{\\eta}}$ from question 1 is followed. Choose $K$ so the approximation is good enough to not affect your results substantially."
   ]
  },
  {
   "cell_type": "code",
   "execution_count": 12,
   "metadata": {},
   "outputs": [
    {
     "name": "stdout",
     "output_type": "stream",
     "text": [
      "Profit with par.K=1: 22.6342\n",
      "Profit with par.K=10: 27.8369\n",
      "Profit with par.K=100: 28.5586\n",
      "Profit with par.K=1000: 28.5105\n",
      "Profit with par.K=2000: 28.4100\n",
      "Profit with par.K=5000: 28.3855\n"
     ]
    }
   ],
   "source": [
    "par.K = 1\n",
    "model.H()\n",
    "print(f'Profit with {par.K=}: {sim.H:.4f}')\n",
    "\n",
    "par.K = 10\n",
    "model.H()\n",
    "print(f'Profit with {par.K=}: {sim.H:.4f}')\n",
    "\n",
    "par.K = 100\n",
    "model.H()\n",
    "print(f'Profit with {par.K=}: {sim.H:.4f}')\n",
    "\n",
    "par.K = 1_000\n",
    "model.H()\n",
    "print(f'Profit with {par.K=}: {sim.H:.4f}')\n",
    "\n",
    "par.K = 2_000\n",
    "model.H()\n",
    "print(f'Profit with {par.K=}: {sim.H:.4f}')\n",
    "\n",
    "par.K = 5_000\n",
    "model.H()\n",
    "print(f'Profit with {par.K=}: {sim.H:.4f}')"
   ]
  },
  {
   "attachments": {},
   "cell_type": "markdown",
   "metadata": {},
   "source": [
    "We choose $K$ large enough to ensure the variability of draws. The difference for different values of $K$ is illustrated above. We settle for $K=10,000$"
   ]
  },
  {
   "cell_type": "code",
   "execution_count": 13,
   "metadata": {},
   "outputs": [
    {
     "name": "stdout",
     "output_type": "stream",
     "text": [
      "Profit with par.delta=0.0: 27.7000\n"
     ]
    }
   ],
   "source": [
    "par.K = 10_000\n",
    "par.delta = 0.00\n",
    "model.H()\n",
    "print(f'Profit with {par.delta=}: {sim.H:.4f}')"
   ]
  },
  {
   "attachments": {},
   "cell_type": "markdown",
   "metadata": {},
   "source": [
    "Next, we consider policies on the form:\n",
    "\n",
    "$$\n",
    "\n",
    "\\ell_{t}=\\begin{cases}\n",
    "\\ell_t^{\\ast}  & \\text{if }\\left|\\ell_{t-1}-\\ell_t^{\\ast} \\right|>\\Delta\\\\\n",
    "\\ell_{t-1} & \\text{else }\n",
    "\\end{cases}\n",
    "\\\\\n",
    "\\text{where}\\,\\,\\ell_t^{\\ast} = \\left(\\frac{(1-\\eta)\\kappa_{t}}{w}\\right)^{\\frac{1}{\\eta}} \\\\\n",
    "\n",
    "$$\n",
    "With $\\Delta \\geq 0$ and $\\Delta = 0$ being the previous policy.\n"
   ]
  },
  {
   "attachments": {},
   "cell_type": "markdown",
   "metadata": {},
   "source": [
    "\n",
    "**Question 3:** Calculate $H$ if the policy above was followed with $\\Delta = 0.05$. Does it improve profitability?"
   ]
  },
  {
   "cell_type": "code",
   "execution_count": 14,
   "metadata": {},
   "outputs": [
    {
     "name": "stdout",
     "output_type": "stream",
     "text": [
      "Profit with par.delta=0.05: 28.3233\n"
     ]
    }
   ],
   "source": [
    "par.delta = 0.05\n",
    "model.H()\n",
    "print(f'Profit with {par.delta=}: {sim.H:.4f}')"
   ]
  },
  {
   "attachments": {},
   "cell_type": "markdown",
   "metadata": {},
   "source": [
    "Increasing $\\Delta$ improves profitability, as labor adjustments now are costly, due to $\\iota>0$"
   ]
  },
  {
   "attachments": {},
   "cell_type": "markdown",
   "metadata": {},
   "source": [
    "**Question 4:** Find the optimal $\\Delta$ maximizing $H$. Illustrate your result."
   ]
  },
  {
   "cell_type": "code",
   "execution_count": 16,
   "metadata": {},
   "outputs": [],
   "source": [
    "# function maximizing ex-ante profits by choosing delta\n",
    "def obj(delta,model):\n",
    "\n",
    "    par = model.par\n",
    "    sim = model.sim\n",
    "\n",
    "    par.seed = True # fixing seed to ensure convergence\n",
    "\n",
    "    par.delta = delta\n",
    "\n",
    "    model.H()\n",
    "\n",
    "    return -sim.H\n",
    "\n",
    "res = minimize(obj,x0=0.1,args=(model,),method='Nelder-Mead')"
   ]
  },
  {
   "cell_type": "code",
   "execution_count": 17,
   "metadata": {},
   "outputs": [
    {
     "name": "stdout",
     "output_type": "stream",
     "text": [
      "Profit maximizing choice of delta: 0.0752\n",
      "Which gives the following ex-ante profit: 28.4102\n"
     ]
    }
   ],
   "source": [
    "print(f'Profit maximizing choice of delta: {res.x.item():.4f}')\n",
    "print(f'Which gives the following ex-ante profit: {-res.fun.item():.4f}')"
   ]
  },
  {
   "cell_type": "code",
   "execution_count": 18,
   "metadata": {},
   "outputs": [
    {
     "data": {
      "image/png": "[encoded data removed]",
      "text/plain": [
       "<Figure size 640x480 with 1 Axes>"
      ]
     },
     "metadata": {},
     "output_type": "display_data"
    }
   ],
   "source": [
    "# generating grids of delta and calculating ex-ante profit\n",
    "x_ = np.linspace(0.,0.5,10)\n",
    "yy = np.zeros_like(x_)\n",
    "for i in range(10):\n",
    "    par.seed = True\n",
    "    par.delta = x_[i]\n",
    "    model.H()\n",
    "    yy[i] = sim.H\n",
    "    \n",
    "# plotting ex-ante profit as function of delta\n",
    "fig,ax = plt.subplots(dpi=100)\n",
    "ax.plot(x_,yy)\n",
    "ax.set_ylabel('$H$')\n",
    "ax.set_xlabel('$\\Delta$')\n",
    "ax.set_title('$H$ as a function of $\\Delta$')\n",
    "ax.axvline(res.x,c='red')\n",
    "\n",
    "plt.show()"
   ]
  },
  {
   "attachments": {},
   "cell_type": "markdown",
   "metadata": {},
   "source": [
    "We find the optimal value of $\\Delta$ to be 0.075, at first ex-ante profits are increasing in $\\Delta$, as the loss due to sluggishness in labor adjustment is offset by the gain in due to saved labor adjustment costs.\n",
    "\n",
    "When $\\Delta$ takes on too high values, the firm will adjust their labor less frequently, proving to be suboptimal."
   ]
  },
  {
   "attachments": {},
   "cell_type": "markdown",
   "metadata": {},
   "source": [
    "\n",
    "**Question 5:** Suggest an alternative policy you believe might improve profitability. Implement and test your policy.\n",
    "\n"
   ]
  },
  {
   "attachments": {},
   "cell_type": "markdown",
   "metadata": {},
   "source": [
    "Our alternative policy, is for the firm adjust it labor, if the periodwise profit is larger with $\\ell^{\\ast}_{t}$ than $\\ell_{t-1}$\n",
    "\n",
    "$$\n",
    "\n",
    "$$\n",
    "\n",
    "$$\n",
    "\\ell_{t}=\\begin{cases}\n",
    "\\ell_t^{\\ast}  & \\text{if }\\kappa_{t}{\\ell^{\\ast}_{t}}^{1-\\eta}-w\\ell^{\\ast}_{t}-\\iota >\\kappa_{t}{\\ell_{t-1}}^{1-\\eta}-w\\ell_{t-1}\\\\\n",
    "\\ell_{t-1} & \\text{else }\n",
    "\\end{cases}\n",
    "$$"
   ]
  },
  {
   "cell_type": "code",
   "execution_count": 19,
   "metadata": {},
   "outputs": [
    {
     "name": "stdout",
     "output_type": "stream",
     "text": [
      "Profit with new adjustment policy: 28.4125\n"
     ]
    }
   ],
   "source": [
    "# change labor adjustment policy\n",
    "par.ell_rule = 'new'\n",
    "model.H()\n",
    "\n",
    "print(f'Profit with new adjustment policy: {sim.H:.4f}')"
   ]
  },
  {
   "attachments": {},
   "cell_type": "markdown",
   "metadata": {},
   "source": [
    "## 3. <a id='toc3_'></a>[Problem 3: Global optimizer with refined multi-start](#toc0_)"
   ]
  },
  {
   "attachments": {},
   "cell_type": "markdown",
   "metadata": {},
   "source": [
    "We consider the Griewank function:\n",
    "\n",
    "$$ f(\\boldsymbol{x}) = \\sum^n_{i=1} \\frac{x^2_i}{4000}-\\prod^n_{i=1}\\cos\\left(\\frac{x_i}{\\sqrt{i}}\\right)+1$$\n",
    "\n",
    "The **global minimum** of this function is $f(0,0) = 0$ (remember: $\\cos(0)=1$).<br>\n",
    "But the function also have a lot of **local minima**."
   ]
  },
  {
   "cell_type": "code",
   "execution_count": 20,
   "metadata": {},
   "outputs": [],
   "source": [
    "def griewank(x):\n",
    "    return griewank_(x[0],x[1])\n",
    "    \n",
    "def griewank_(x1,x2):\n",
    "    A = x1**2/4000 + x2**2/4000\n",
    "    B = np.cos(x1/np.sqrt(1))*np.cos(x2/np.sqrt(2))\n",
    "    return A-B+1"
   ]
  },
  {
   "attachments": {},
   "cell_type": "markdown",
   "metadata": {},
   "source": [
    "A **refined global optimizer with multi-start** is:\n",
    "\n",
    "1. Choose *bounds* for $\\mathbf{x}$ and *tolerance* $\\tau > 0$.\n",
    "2. Choose number of *warm-up iterations*, $\\underline{K} > 0$ and *maximum number of iterations*, $K > \\underline{K}$.\n",
    "3. In each iteration for $k \\in \\{0,1,\\dots,K-1\\}$:\n",
    "\n",
    "    A. Draw random $\\mathbf{x}^k$ uniformly within chosen bounds.\n",
    "\n",
    "    B. If $k < \\underline{K}$ go to step E.\n",
    "\n",
    "    C. Calculate $\\chi^k = 0.50\\cdot\\frac{2}{1+\\exp((k-\\underline{K})/100)}$  \n",
    "\n",
    "    D. Set $\\mathbf{x}^{k0} = \\chi^k \\mathbf{x}^k + (1-\\chi^k)\\mathbf{x}^{\\ast} $\n",
    "\n",
    "    E. Run optimizer with $\\mathbf{x}^{k0}$ as initial guess and $\\mathbf{x}^{k\\ast}$ as result.\n",
    "\n",
    "    F. Set $\\mathbf{x}^{\\ast} = \\mathbf{x}^{k\\ast}$ if $k = 0$ or $f(\\mathbf{x}^{k\\ast}) < f(\\mathbf{x}^{\\ast})$\n",
    "\n",
    "    G. If $f(\\mathbf{x}^{\\ast}) < \\tau$ go to step 4.\n",
    "\n",
    "4. Return the result $\\mathbf{x}^{\\ast}$."
   ]
  },
  {
   "attachments": {},
   "cell_type": "markdown",
   "metadata": {},
   "source": [
    "As settings we choose:\n",
    "\n",
    "* $x_1,x_2 \\in  [-600,600]$\n",
    "* $\\tau = 10^{-8}$\n",
    "* $\\underline{K}=10$\n",
    "* $K=1000$\n",
    "\n",
    "The optimizer in Step 3.E is `BFGS` with a tolerance of $\\tau$."
   ]
  },
  {
   "attachments": {},
   "cell_type": "markdown",
   "metadata": {},
   "source": [
    "**Question 1:** Implement the refined global optimizer with multi-start. Illustrate how the effective initial guesses $\\mathbf{x}^{k0}$ vary with the iteration counter $k$."
   ]
  },
  {
   "cell_type": "code",
   "execution_count": 21,
   "metadata": {},
   "outputs": [],
   "source": [
    "def refined_global_optimizer(K,K_,tau,draws = None):\n",
    "\n",
    "    x_k0_store = np.ones((2,K))*np.nan\n",
    "\n",
    "    k = 0\n",
    "\n",
    "    while k < K:\n",
    "\n",
    "    # step a\n",
    "        if draws is None:\n",
    "            xk = np.random.uniform(-600,600,size=2)\n",
    "        else:\n",
    "            xk = draws[k]\n",
    "\n",
    "        # step b\n",
    "        if k>=K_:\n",
    "\n",
    "            # step c\n",
    "            chi_k = 0.5*2/(1+np.exp((k-K_)/100))\n",
    "\n",
    "            # step d\n",
    "            x_k0 = chi_k*xk + (1-chi_k)*x_star\n",
    "        else:\n",
    "            x_k0 = xk\n",
    "\n",
    "        # step e\n",
    "        x_k0_store[:,k] = x_k0\n",
    "        res = minimize(griewank,x0=x_k0,method='BFGS',tol=tau)\n",
    "        x_kstar = res.x\n",
    "\n",
    "        # step f\n",
    "        if k == 0:\n",
    "            x_star = x_kstar\n",
    "\n",
    "        if griewank(x_kstar)<griewank(x_star):\n",
    "            x_star = x_kstar\n",
    "\n",
    "        fxstar = griewank(x_star)\n",
    "\n",
    "        if fxstar < tau:\n",
    "            print(f'Iterations for convergence {k}')\n",
    "            print(f'Terminal function value {fxstar:.10f}')\n",
    "            return x_star, fxstar, x_k0_store\n",
    "        else:\n",
    "            k += 1"
   ]
  },
  {
   "cell_type": "code",
   "execution_count": 22,
   "metadata": {},
   "outputs": [
    {
     "name": "stdout",
     "output_type": "stream",
     "text": [
      "Iterations for convergence 402\n",
      "Terminal function value 0.0000000000\n"
     ]
    }
   ],
   "source": [
    "x_star_10, fxstar_10, x_k0_store_10 = refined_global_optimizer(1_000,10,1e-8,draws = None)"
   ]
  },
  {
   "cell_type": "code",
   "execution_count": 23,
   "metadata": {},
   "outputs": [
    {
     "name": "stdout",
     "output_type": "stream",
     "text": [
      "Iterations for convergence 364\n",
      "Terminal function value 0.0000000000\n"
     ]
    }
   ],
   "source": [
    "x_star_100, fxstar_100, x_k0_store_100 = refined_global_optimizer(1_000,100,1e-8,draws = None)"
   ]
  },
  {
   "attachments": {},
   "cell_type": "markdown",
   "metadata": {},
   "source": [
    "The plot showing the values of $\\mathbf{x}^{k0}$ vary with the iteration counter $k$. Is shown below in **Question 2** to compare with $\\underline{K} = 100$"
   ]
  },
  {
   "attachments": {},
   "cell_type": "markdown",
   "metadata": {},
   "source": [
    "\n",
    "**Question 2:** Is it a better idea to set $\\underline{K} = 100$? Is the convergence faster?"
   ]
  },
  {
   "cell_type": "code",
   "execution_count": 24,
   "metadata": {},
   "outputs": [
    {
     "data": {
      "image/png": "[encoded data removed]",
      "text/plain": [
       "<Figure size 640x480 with 2 Axes>"
      ]
     },
     "metadata": {},
     "output_type": "display_data"
    }
   ],
   "source": [
    "fig, ax = plt.subplots(2,dpi=100)\n",
    "\n",
    "ax[0].plot(x_k0_store_10[0],label='$x_1$')\n",
    "ax[0].plot(x_k0_store_100[1],label='$x_2$')\n",
    "ax[0].fill_between(np.arange(10),-1000,1000,color='grey',alpha=0.5)\n",
    "ax[0].set_ylim([-600,600])\n",
    "\n",
    "ax[1].plot(x_k0_store_100[0],label='$x_1$')\n",
    "ax[1].plot(x_k0_store_100[1],label='$x_2$')\n",
    "ax[1].fill_between(np.arange(100),-1000,1000,color='grey',alpha=0.5)\n",
    "ax[1].set_ylim([-600,600])\n",
    "ax[1].set_xlabel('k')\n",
    "\n",
    "ax[0].legend(frameon=True)\n",
    "\n",
    "plt.show()"
   ]
  }
 ],
 "metadata": {
  "kernelspec": {
   "display_name": "Python 3 (ipykernel)",
   "language": "python",
   "name": "python3"
  },
  "language_info": {
   "codemirror_mode": {
    "name": "ipython",
    "version": 3
   },
   "file_extension": ".py",
   "mimetype": "text/x-python",
   "name": "python",
   "nbconvert_exporter": "python",
   "pygments_lexer": "ipython3",
   "version": "3.10.9"
  },
  "vscode": {
   "interpreter": {
    "hash": "3a7b9178a8d06d773675986054c75a42e350bbad9cb6a8609b83f30bc11672cd"
   }
  }
 },
 "nbformat": 4,
 "nbformat_minor": 4
}
