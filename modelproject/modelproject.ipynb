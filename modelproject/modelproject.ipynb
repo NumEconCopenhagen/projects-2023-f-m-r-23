{
 "cells": [
  {
   "cell_type": "markdown",
   "metadata": {},
   "source": [
    "# Overlapping Generations with bequest motives"
   ]
  },
  {
   "cell_type": "markdown",
   "metadata": {},
   "source": [
    "Imports and set magics:"
   ]
  },
  {
   "cell_type": "code",
   "execution_count": 1,
   "metadata": {},
   "outputs": [],
   "source": [
    "import numpy as np\n",
    "from scipy import optimize\n",
    "import sympy as sm\n",
    "import matplotlib.pyplot as plt\n",
    "\n",
    "# autoreload modules when code is run\n",
    "%load_ext autoreload\n",
    "%autoreload 2\n",
    "\n",
    "# local modules\n",
    "from OLGModel import OLGModelClass"
   ]
  },
  {
   "cell_type": "markdown",
   "metadata": {},
   "source": [
    "# Model description"
   ]
  },
  {
   "cell_type": "markdown",
   "metadata": {},
   "source": [
    "Our model extends on the traditional OLG model with a government by introducing the possibility for agents to either consume their entire savings in period 2 or to transfers some of their savings to the next generation as a bequest. This increases the complexity for the model, as agents now has to optimize both for their optimal savings rate but also for the optimal level of bequests.\n",
    "\n",
    "As our model is an extension the formal outline below resembels the example provided in the course to a great extent."
   ]
  },
  {
   "cell_type": "markdown",
   "metadata": {},
   "source": [
    "**Time:** Discrete and indexed by $t\\in\\{0,1,\\dots\\}$."
   ]
  },
  {
   "cell_type": "markdown",
   "metadata": {},
   "source": [
    "**Demographics:** Population is constant. A life consists of\n",
    "two periods, *young* and *old*."
   ]
  },
  {
   "cell_type": "markdown",
   "metadata": {},
   "source": [
    "**Households:** As young a household supplies labor exogenously, $L_{t}=1$, and earns a after tax wage $(1-\\tau_w)w_{t}$. Consumption as young and old\n",
    "are denoted by $C_{1t}$ and $C_{2t+1}$. The after-tax return on saving is $(1-\\tau_{r})r_{t+1}$. Utility is\n",
    "    \n",
    "$$\n",
    "\\begin{aligned}\n",
    "U & =\\max_{s_{t}\\in[0,1],\\chi_{t+1}}\\frac{C_{1t}^{1-\\sigma}}{1-\\sigma}+\\beta(\\frac{C_{2t+1}^{1-\\sigma}}{1-\\sigma} + \\pi\\frac{(1-\\tau_{\\chi})\\chi_{t+1}^{1-\\nu}}{1-\\nu}),\\,\\,\\,\\beta > -1, \\sigma > 0\\\\\n",
    " & \\text{s.t.}\\\\\n",
    " & S_{t}=s_{t}((1-\\tau_{w})w_{t}+\\Gamma_t)\\\\\n",
    " & C_{1t}=(1-s_{t})((1-\\tau_{w})w_{t}+ \\Gamma_t)\\\\\n",
    " & \\chi_{t+1}+ C_{2t+1}=(1+(1-\\tau_{r})r_{t+1})S_{t}\n",
    "\\end{aligned}\n",
    "$$\n",
    "    \n",
    "The problem is formulated in terms of the saving rate $s_t\\in[0,1]$ and the bequest $\\chi_{t+1}$. The bequest recived follows the law-of-motion below\n",
    "\n",
    "$$\n",
    "\\begin{aligned}\n",
    "\\Gamma_t = (1+(1-\\tau_{\\chi})r_{t-1})\\chi_{t-1}\n",
    "\\end{aligned}\n",
    "$$\n",
    "\n"
   ]
  },
  {
   "cell_type": "markdown",
   "metadata": {},
   "source": [
    "The law-of-motion for the bequest is simply the bequest saved by the agents in last period corrected by the post-tax return. Therefore, we assume that the bequest can be renumerated by the same interest rates as savings. An interesting feature of the modifications, is that we allow for different tax-rates between bequests and savings."
   ]
  },
  {
   "cell_type": "markdown",
   "metadata": {},
   "source": [
    "**Firms:** Firms rent capital $K_{t-1}$ at the rental rate $r_{t}^{K}$,\n",
    "and hires labor $E_{t}$ at the wage rate $w_{t}$. Firms have access\n",
    "to the production function\n",
    "    \n",
    "$$\n",
    "\\begin{aligned}\n",
    "Y_{t}=F(K_{t-1},E_{t})=(\\alpha K_{t-1}^{-\\theta}+(1-\\alpha)E_{t}^{-\\theta})^{\\frac{1}{-\\theta}},\\,\\,\\,\\theta>-1,\\alpha\\in(0,1)\n",
    "\\end{aligned}\n",
    "$$\n",
    "    \n",
    "Profits are\n",
    "    \n",
    "$$\n",
    "\\begin{aligned}\n",
    "\\Pi_{t}=Y_{t}-w_{t}E_{t}-r_{t}^{K}K_{t-1}\n",
    "\\end{aligned}\n",
    "$$"
   ]
  },
  {
   "cell_type": "markdown",
   "metadata": {},
   "source": [
    "**Government:** Choose public consumption, $G_{t}$, and tax rates $\\tau_w \\in [0,1]$ and $\\tau_r \\in [0,1]$. Total tax revenue is\n",
    "    \n",
    "$$\n",
    "\\begin{aligned}\n",
    "T_{t} &=\\tau_r r_{t} (K_{t-1}+B_{t-1})+\\tau_w w_{t}   \n",
    "\\end{aligned}\n",
    "$$\n",
    "    \n",
    "Government debt accumulates according to\n",
    "    \n",
    "$$\n",
    "\\begin{aligned}\n",
    "B_{t} &=(1+r^b_{t})B_{t-1}-T_{t}+G_{t} \n",
    "\\end{aligned}\n",
    "$$\n",
    "       \n",
    "A *balanced budget* implies $G_{t}=T_{t}-r_{t}B_{t-1}$."
   ]
  },
  {
   "cell_type": "markdown",
   "metadata": {},
   "source": [
    "**Capital:** Depreciates with a rate of $\\delta \\in [0,1]$."
   ]
  },
  {
   "cell_type": "markdown",
   "metadata": {},
   "source": [
    "**Equilibrium:**\n",
    "\n",
    "1. Households maximize utility\n",
    "2. Firms maximize profits\n",
    "3. No-arbitrage between bonds and capital\n",
    "\n",
    "    $$\n",
    "    r_{t}=r_{t}^{K}-\\delta=r_{t}^{b}\n",
    "    $$\n",
    "\n",
    "4. Labor market clears: $E_{t}=L_{t}=1$\n",
    "5. Goods market clears: $Y_{t}=C_{1t}+C_{2t}+G_{t}+I_{t}$\n",
    "6. Asset market clears: $S_{t}=K_{t}+B_{t}+ \\chi_{t}$\n",
    "7. Capital follows its law of motion: $K_{t}=(1-\\delta)K_{t-1}+I_{t}$"
   ]
  },
  {
   "cell_type": "markdown",
   "metadata": {},
   "source": [
    "## Analytical solution"
   ]
  },
  {
   "cell_type": "markdown",
   "metadata": {},
   "source": [
    "**Implication of profit maximization:** From FOCs\n",
    "\n",
    "$$\n",
    "\\begin{aligned}\n",
    "r_{t}^{k} & =F_{K}(K_{t-1},E_{t})=\\alpha K_{t-1}^{-\\theta-1}Y_{t}^{1+\\theta}\\\\\n",
    "w_{t} & =F_{E}(K_{t-1},E_{t})=(1-\\alpha)E_{t}^{-\\theta-1}Y_{t}^{1+\\theta}\n",
    "\\end{aligned}\n",
    "$$\n",
    "\n",
    "**Implication of utility maximization:** From FOC\n",
    "\n",
    "$$\n",
    "\\begin{aligned}\n",
    "C_{1t}^{-\\sigma} &= \\beta (1+(1-\\tau_r)r_{t+1})C_{2t+1}^{-\\sigma}\\\\\n",
    "C_{1t}^{-\\sigma} &= \\beta (1+(1-\\tau_r)r_{t+1})\\chi_{t+1}^{-\\nu}(1-\\tau_{\\chi})\n",
    "\\end{aligned}\n",
    "$$\n",
    "\n",
    "This in turn implies\n",
    "\n",
    "$$\n",
    "\\begin{aligned}\n",
    "\\chi_{t+1} &= C_{2t+1}^\\frac{\\sigma}{\\nu}(1-\\tau_{\\chi})\n",
    "\\end{aligned}\n",
    "$$"
   ]
  },
  {
   "cell_type": "markdown",
   "metadata": {},
   "source": [
    "**Simulation algorithm:** At the beginning of period $t$, the\n",
    "economy can be summarized in the state variables $K_{t-1}$ and $B_{t-1}$.  *Before* $s_t$ is known, we can calculate:\n",
    "\n",
    "$$\n",
    "\\begin{aligned}\n",
    "Y_{t} & =F(K_{t-1},1)\\\\\n",
    "r_{t}^{k} & =F_{K}(K_{t-1},1)\\\\\n",
    "w_{t} & =F_{E}(K_{t-1},1)\\\\\n",
    "r_{t} & =r^k_{t}-\\delta\\\\\n",
    "r_{t}^{b} & =r_{t}\\\\\n",
    "\\tilde{r}_{t} & =(1-\\tau_{r})r_{t}\\\\\n",
    "C_{2t} & =(1+\\tilde{r}_{t})(K_{t-1}+B_{t-1})\\\\\n",
    "T_{t} & =\\tau_{r}r_{t}(K_{t-1}+B_{t-1}-(1+r_t)\\chi_{t-1})+\\tau_{w}w_{t} +\\tau_{\\chi}r_t\\chi_{t-1} \\\\\n",
    "B_{t} & =(1+r^b_{t})B_{t-1}+T_{t}-G_{t}\\\\\n",
    "\\end{aligned}\n",
    "$$\n",
    "\n",
    "*After* $s_t$ is known we can calculate:\n",
    "\n",
    "$$\n",
    "\\begin{aligned}\n",
    "C_{1t} & = (1-s_{t})(1-\\tau_{w})w_{t}\\\\\n",
    "I_{t} & =Y_{t}-C_{1t}-C_{2t}-G_{t}+\\chi_t\\\\\n",
    "K_{t} & =(1-\\delta)K_{t-1} + I_t \\\\\n",
    "\\Gamma_t &= (1+(1-\\tau_{\\chi})r_{t-1})\\chi_{t-1}\n",
    "\\end{aligned}\n",
    "$$"
   ]
  },
  {
   "cell_type": "markdown",
   "metadata": {},
   "source": [
    "**Solution algorithm:** Simulate forward choosing $s_{t}$ so\n",
    "that we always have\n",
    "\n",
    "$$\n",
    "\\begin{aligned}\n",
    "C_{1t}^{-\\sigma}=\\beta(1+\\tilde{r}_{t+1})C_{2t+1}^{-\\sigma}\n",
    "\\end{aligned}\n",
    "$$"
   ]
  },
  {
   "cell_type": "markdown",
   "metadata": {},
   "source": [
    "## Numerical solution"
   ]
  },
  {
   "cell_type": "code",
   "execution_count": 2,
   "metadata": {},
   "outputs": [
    {
     "name": "stdout",
     "output_type": "stream",
     "text": [
      "initializing the model:\n",
      "calling .setup()\n",
      "calling .allocate()\n"
     ]
    }
   ],
   "source": [
    "model = OLGModelClass()\n",
    "par = model.par # SimpeNamespace\n",
    "sim = model.sim # SimpeNamespace\n",
    "\n",
    "# a. production\n",
    "par.production_function = 'cobb-douglas'\n",
    "par.theta = 0.0\n",
    "\n",
    "# b. households\n",
    "par.sigma = 2.0\n",
    "\n",
    "# c. government\n",
    "par.tau_w = 0.0\n",
    "par.tau_r = 0.0\n",
    "par.tau_gamma = 0\n",
    "sim.balanced_budget[:] = True # G changes to achieve this\n",
    "\n",
    "# d. initial values\n",
    "K_ss = ((1-par.alpha)/((1+1.0/par.beta)))**(1/(1-par.alpha))\n",
    "par.K_lag_ini = 0.1*K_ss\n",
    "\n",
    "# e. Bequests\n",
    "par.model = 'bequest' # 1: Bequests are a part of the model, 0: Bequests are not"
   ]
  },
  {
   "cell_type": "code",
   "execution_count": 3,
   "metadata": {},
   "outputs": [
    {
     "name": "stdout",
     "output_type": "stream",
     "text": [
      "simulation done in 0.62 secs\n"
     ]
    }
   ],
   "source": [
    "model.simulate()"
   ]
  },
  {
   "cell_type": "code",
   "execution_count": 4,
   "metadata": {
    "tags": []
   },
   "outputs": [],
   "source": [
    "K_lag_old = model.sim.K_lag.copy()\n",
    "\n",
    "K_ss_model1 = sim.K_lag[-1]\n",
    "B_ss = sim.B_lag[-1]\n",
    "G_ss = sim.G[-1]\n",
    "chi_SS = sim.chi[-1]\n",
    "\n",
    "chi_base = model.sim.chi_lag.copy()\n",
    "k_base = model.sim.K_lag.copy()"
   ]
  },
  {
   "cell_type": "markdown",
   "metadata": {},
   "source": [
    "Example of Euler equation evaluations in five periods. The first function is a standard Euler equation, while the second ensures the entire budget is allocated when old, and the distribution between bequest and consumption satisfies the specific FOC provided above."
   ]
  },
  {
   "cell_type": "code",
   "execution_count": 5,
   "metadata": {},
   "outputs": [
    {
     "name": "stdout",
     "output_type": "stream",
     "text": [
      "t =  0: euler-error = 0.00000000\n",
      "t =  0: euler-error 2 = 0.00000000\n",
      "t =  1: euler-error = -0.00000000\n",
      "t =  1: euler-error 2 = 0.00000000\n",
      "t =  2: euler-error = -0.00000000\n",
      "t =  2: euler-error 2 = 0.00000000\n",
      "t =  3: euler-error = 0.00000000\n",
      "t =  3: euler-error 2 = 0.00000000\n",
      "t =  4: euler-error = -0.00000000\n",
      "t =  4: euler-error 2 = 0.00000000\n"
     ]
    }
   ],
   "source": [
    "for t in range(5):\n",
    "\n",
    "    LHS_Euler = sim.C1[t]**(-par.sigma)\n",
    "    RHS_Euler = (1+sim.rt[t+1])*par.beta * sim.C2[t+1]**(-par.sigma)\n",
    "    \n",
    "    print(f't = {t:2d}: euler-error = {LHS_Euler-RHS_Euler:.8f}')\n",
    "    \n",
    "    LHS_Euler2 = sim.C2[t] + sim.chi[t]\n",
    "    RHS_Euler2 = (1+sim.rt[t])*(sim.K_lag[t]+sim.B_lag[t])\n",
    "    print(f't = {t:2d}: euler-error 2 = {LHS_Euler2-RHS_Euler2:.8f}')           "
   ]
  },
  {
   "cell_type": "markdown",
   "metadata": {},
   "source": [
    "As we can see above both our Euler equation 1 and 2 converges. The first euler equation is from the standard OLG framework, whereas the second euler equation ensures that other agents also opts for the optimal Bequest."
   ]
  },
  {
   "cell_type": "markdown",
   "metadata": {},
   "source": [
    "# Further analysis"
   ]
  },
  {
   "cell_type": "markdown",
   "metadata": {},
   "source": [
    "We check for convergence in the model for slightly different start parameter values, the convergence should not change significantly and the steady state should be within the same range"
   ]
  },
  {
   "cell_type": "code",
   "execution_count": 6,
   "metadata": {},
   "outputs": [
    {
     "name": "stdout",
     "output_type": "stream",
     "text": [
      "simulation done in 0.18 secs\n"
     ]
    }
   ],
   "source": [
    "#New start parameters\n",
    "\n",
    "par = model.par # SimpeNamespace\n",
    "sim = model.sim # SimpeNamespace\n",
    "\n",
    "# a. production\n",
    "par.production_function = 'cobb-douglas'\n",
    "par.theta = 0.0\n",
    "\n",
    "# b. households\n",
    "par.sigma = 2\n",
    "\n",
    "# c. government\n",
    "par.tau_w = 0.001\n",
    "par.tau_r = 0.5\n",
    "\n",
    "sim.balanced_budget[:] = True # G changes to achieve this\n",
    "\n",
    "# d. initial values\n",
    "K_ss = ((1-par.alpha)/((1+1.0/par.beta)))**(1/(1-par.alpha))\n",
    "par.K_lag_ini = 0.1*K_ss\n",
    "\n",
    "#Simulate model\n",
    "model.simulate()"
   ]
  },
  {
   "cell_type": "code",
   "execution_count": 7,
   "metadata": {},
   "outputs": [
    {
     "data": {
      "image/png": "[encoded data removed]",
      "text/plain": [
       "<Figure size 432x288 with 1 Axes>"
      ]
     },
     "metadata": {
      "needs_background": "light"
     },
     "output_type": "display_data"
    }
   ],
   "source": [
    "fig = plt.figure(figsize=(6,6/1.5))\n",
    "ax = fig.add_subplot(1,1,1)\n",
    "ax.plot(model.sim.K_lag,label=r'$K_{t-1}$')\n",
    "ax.plot(K_lag_old,label=r'$K_{t-1}$ ($\\theta = 0.0, \\sigma = 2$, inactive government)')\n",
    "ax.axhline(K_ss_model1,ls='--',color='black',label='analytical steady state')\n",
    "ax.legend(frameon=True)\n",
    "fig.tight_layout()"
   ]
  },
  {
   "cell_type": "markdown",
   "metadata": {},
   "source": [
    "The converges look pretty neat for both cases. If the converges deviates significantly, when changes the variables slightly, it would indicate that the model is not build correctly."
   ]
  },
  {
   "cell_type": "markdown",
   "metadata": {},
   "source": [
    "## The heritage tax, $\\tau_{\\chi}$, on bequest increases"
   ]
  },
  {
   "cell_type": "markdown",
   "metadata": {},
   "source": [
    "In this section we will see how consumption and bequest changes in the second period of agents life, if the heritage tax for bequests increases.  "
   ]
  },
  {
   "cell_type": "markdown",
   "metadata": {},
   "source": [
    "We adjust the heritage rate for bequests:"
   ]
  },
  {
   "cell_type": "code",
   "execution_count": 8,
   "metadata": {},
   "outputs": [
    {
     "name": "stdout",
     "output_type": "stream",
     "text": [
      "initializing the model:\n",
      "calling .setup()\n",
      "calling .allocate()\n",
      "simulation done in 0.26 secs\n",
      "simulation done in 0.38 secs\n"
     ]
    }
   ],
   "source": [
    "\n",
    "model_tax = OLGModelClass()\n",
    "# tax model\n",
    "\n",
    "par_tax = model_tax.par # SimpeNamespace\n",
    "sim_tax = model_tax.sim # SimpeNamespace\n",
    "\n",
    "# a. production\n",
    "par_tax.production_function = 'cobb-douglas'\n",
    "par_tax.theta = 0.0\n",
    "\n",
    "# b. households\n",
    "par_tax.sigma = 2\n",
    "\n",
    "# c. government\n",
    "par_tax.tau_w = 0.001\n",
    "par_tax.tau_r = 0.5\n",
    "\n",
    "sim_tax.balanced_budget[:] = True # G changes to achieve this\n",
    "\n",
    "# d. initial values\n",
    "K_ss = ((1-par_tax.alpha)/((1+1.0/par_tax.beta)))**(1/(1-par_tax.alpha))\n",
    "par_tax.K_lag_ini = 0.1*K_ss\n",
    "\n",
    "#Simulate model\n",
    "model.simulate()\n",
    "\n",
    "# c. government\n",
    "par_tax.tau_w = 0.0\n",
    "par_tax.tau_r = 0.0\n",
    "par_tax.tau_gamma = 0.5\n",
    "\n",
    "sim_tax.balanced_budget[:] = True # G changes to achieve this\n",
    "\n",
    "# d. initial values\n",
    "K_ss = ((1-par_tax.alpha)/((1+1.0/par_tax.beta)))**(1/(1-par_tax.alpha))\n",
    "par_tax.K_lag_ini = 0.1*K_ss\n",
    "\n",
    "model_tax.simulate()"
   ]
  },
  {
   "cell_type": "markdown",
   "metadata": {},
   "source": [
    "Plot the new trends"
   ]
  },
  {
   "cell_type": "code",
   "execution_count": 9,
   "metadata": {},
   "outputs": [
    {
     "data": {
      "image/png": "[encoded data removed]",
      "text/plain": [
       "<Figure size 432x288 with 1 Axes>"
      ]
     },
     "metadata": {
      "needs_background": "light"
     },
     "output_type": "display_data"
    }
   ],
   "source": [
    "fig = plt.figure(figsize=(6,6/1.5))\n",
    "ax = fig.add_subplot(1,1,1)\n",
    "ax.plot(chi_base[:49],label=r'$\\chi_{t-1}$')\n",
    "ax.plot(k_base,label=r'$K_{t-1}$')\n",
    "ax.plot(sim_tax.chi_lag[:49],label=r'$\\chi_{t-1}, \\tau_{\\chi}=0.5$')\n",
    "ax.plot(sim_tax.K_lag,label=r'$K_{t-1}, \\tau_{\\chi}=0.5$')\n",
    "\n",
    "ax.legend(frameon=True)\n",
    "fig.tight_layout()"
   ]
  },
  {
   "cell_type": "markdown",
   "metadata": {},
   "source": [
    "We see that when we increase the taxrate on heritage, we have a lower build up of capital as the economy experience a deadweight loss from the higher taxrate.\n",
    "\n",
    "Finally we compare to we compare to the vanilla OLG model without bequest motive and conduct welfare analysis."
   ]
  },
  {
   "cell_type": "code",
   "execution_count": 10,
   "metadata": {},
   "outputs": [
    {
     "name": "stdout",
     "output_type": "stream",
     "text": [
      "initializing the model:\n",
      "calling .setup()\n",
      "calling .allocate()\n",
      "simulation done in 0.09 secs\n"
     ]
    }
   ],
   "source": [
    "model_standard = OLGModelClass()\n",
    "par_std = model_standard.par # SimpeNamespace\n",
    "sim_std = model_standard.sim # SimpeNamespace\n",
    "\n",
    "# a. production\n",
    "par_std.production_function = 'cobb-douglas'\n",
    "par_std.theta = 0.0\n",
    "\n",
    "# b. households\n",
    "par_std.sigma = 2.0\n",
    "\n",
    "# c. government\n",
    "par_std.tau_w = 0.0\n",
    "par_std.tau_r = 0.0\n",
    "par_std.tau_gamma = 0\n",
    "sim.balanced_budget[:] = True # G changes to achieve this\n",
    "\n",
    "# d. initial values\n",
    "K_ss = ((1-par_std.alpha)/((1+1.0/par_std.beta)))**(1/(1-par_std.alpha))\n",
    "par_std.K_lag_ini = 0.1*K_ss\n",
    "\n",
    "# e. Bequests\n",
    "par_std.model = 'standard'\n",
    "\n",
    "model_standard.simulate()"
   ]
  },
  {
   "cell_type": "code",
   "execution_count": 11,
   "metadata": {},
   "outputs": [
    {
     "data": {
      "image/png": "[encoded data removed]",
      "text/plain": [
       "<Figure size 432x288 with 1 Axes>"
      ]
     },
     "metadata": {
      "needs_background": "light"
     },
     "output_type": "display_data"
    }
   ],
   "source": [
    "fig = plt.figure(figsize=(6,6/1.5))\n",
    "ax = fig.add_subplot(1,1,1)\n",
    "ax.plot(chi_base[:49],label=r'$\\chi_{t-1}$')\n",
    "ax.plot(k_base,label=r'$K_{t-1}$')\n",
    "ax.plot(model.sim.chi_lag[:49],label=r'$\\chi_{t-1}, \\tau_{\\chi}=0.5$')\n",
    "ax.plot(model.sim.K_lag,label=r'$K_{t-1}, \\tau_{\\chi}=0.5$')\n",
    "ax.plot(sim_std.K_lag,label=r'$K_{t-1}$, no bequest')\n",
    "\n",
    "ax.legend(frameon=True)\n",
    "fig.tight_layout()"
   ]
  },
  {
   "cell_type": "markdown",
   "metadata": {},
   "source": [
    "CEV (Consumption Equivalent Variation) is a widely used measure for welfare effect. The results below can be interpreted as the change required in consumption for either young, old or lifetime in the vanilla model to make either young, old or lifetime households indifferent between the three model setups. Note the standard OLG and bequest are both nested versions of the OLG model with bequest and taxes."
   ]
  },
  {
   "cell_type": "code",
   "execution_count": 12,
   "metadata": {},
   "outputs": [],
   "source": [
    "def cev(par,sim,sim1):\n",
    "    '''Currently CEV is only calculated for models in which structural paramters are the same\n",
    "    INPUT:\n",
    "    par: par for standard model\n",
    "    sim: sim for standard model\n",
    "    sim1: sim for extended model\n",
    "    '''\n",
    "\n",
    "    ss = par.simT - 2\n",
    "    \n",
    "    cev_young = (sim1.C1[ss]/sim.C1[ss]-1)*100\n",
    "    cev_old = ((sim1.u_old[ss]/(1-par.sigma))**(1/(1-par.sigma))/sim.C1[ss]-1)*100\n",
    "\n",
    "    cev_life = ((sim1.u_life[ss]/sim.u_life[ss])**(1/(1-par.sigma))-1)*100\n",
    "\n",
    "    return cev_young, cev_old, cev_life"
   ]
  },
  {
   "cell_type": "code",
   "execution_count": 13,
   "metadata": {},
   "outputs": [],
   "source": [
    "cev_ = np.zeros((3,3))\n",
    "cev_[1] = cev(par_std,sim_std,sim)\n",
    "cev_[2] = cev(par_std,sim_std,sim_tax)"
   ]
  },
  {
   "cell_type": "code",
   "execution_count": 14,
   "metadata": {},
   "outputs": [
    {
     "data": {
      "image/png": "[encoded data removed]",
      "text/plain": [
       "<Figure size 600x400 with 1 Axes>"
      ]
     },
     "metadata": {
      "needs_background": "light"
     },
     "output_type": "display_data"
    }
   ],
   "source": [
    "fig, ax = plt.subplots(dpi=100)\n",
    "\n",
    "names = ['Standard OLG','+ bequest','+ taxes']\n",
    "xs = np.arange(3)\n",
    "dx = (np.arange(cev_.shape[1])-cev_.shape[1]/2.)/(cev_.shape[1]+2.)\n",
    "d = 1./(cev_.shape[1]+2.)\n",
    "\n",
    "ax.bar(x=xs+dx[0],width=d,height=cev_[:,0],label= 'young')\n",
    "ax.bar(x=xs+dx[1],width=d,height=cev_[:,1],label= 'old')\n",
    "ax.bar(x=xs+dx[2],width=d,height=cev_[:,2],label= 'lifetime')\n",
    "ax.axhline(0,c='k')\n",
    "ax.set_ylabel('CEV')\n",
    "\n",
    "ax.legend(frameon=True)\n",
    "\n",
    "ax.set_xticks(xs, names)\n",
    "\n",
    "plt.show()"
   ]
  },
  {
   "cell_type": "code",
   "execution_count": 15,
   "metadata": {},
   "outputs": [
    {
     "name": "stdout",
     "output_type": "stream",
     "text": [
      "Percent change in lifetime consumption in the standard model for household lifetime utility to equal lifetime utility with bequest motive: 62.4%\n",
      "Percent change in lifetime consumption in the standard model for household lifetime utility to equal lifetime utility with bequest motive+taxes: -32.8%\n"
     ]
    }
   ],
   "source": [
    "print(f'Percent change in lifetime consumption in the standard model for household lifetime utility to equal lifetime utility with bequest motive: {cev_[1,2]:.1f}%')\n",
    "print(f'Percent change in lifetime consumption in the standard model for household lifetime utility to equal lifetime utility with bequest motive+taxes: {cev_[2,2]:.1f}%')"
   ]
  },
  {
   "cell_type": "markdown",
   "metadata": {},
   "source": [
    "We see from the above welfare analysis that the lifetime utility greatly improves with bequest motive, as the old receive more utility by leaving a bequest, which both goes to the young generation, but also helps increase the capital stock and thus production which grealy benefits the young generation.\n",
    "\n",
    "However when a bequest tax is introduced the utility of the old generation fall and they are worse off than in the standard OLG model, since they only receive utility of the amount they know the next generation will receive (the after-tax bequest) they will have to spend more to keep up the after-tax bequest. Which means less consumption. The young generation are still better off, but the lifetime utility is lower. "
   ]
  },
  {
   "cell_type": "markdown",
   "metadata": {
    "tags": []
   },
   "source": [
    "# Conclusion"
   ]
  },
  {
   "cell_type": "markdown",
   "metadata": {},
   "source": [
    "In this model setup we introduced bequests, which provides agents an alternative in the second period other than consumption. Thus, the agents have to both choose their optimal savings rate in period 1, but also their optimal bequests in period 2. In turn, the post-tax bequests provides them utility, which can be interpreted as utility gain from inheritance to the next generation. With the addition of a unique tax on bequests, we can analyze the effect on the economy of a higher hertiage tax. We conclude that as inheritance tax increases the agents experience a larger deadweight loss from "
   ]
  },
  {
   "cell_type": "markdown",
   "metadata": {},
   "source": [
    "To-do list (This list is to remind ourselves of what to fix before the exam):\n",
    "\n",
    "- Forklaring af model (Intution)\n",
    "- Timeline af forløbet med arv\n",
    "- Kode optimering, find optimal saving rate og arv rate\n",
    "- Konklusion\n",
    "- Graf uden fleksibilitet\n",
    "- \n",
    "\n"
   ]
  },
  {
   "cell_type": "markdown",
   "metadata": {},
   "source": []
  }
 ],
 "metadata": {
  "kernelspec": {
   "display_name": "Python 3 (ipykernel)",
   "language": "python",
   "name": "python3"
  },
  "language_info": {
   "codemirror_mode": {
    "name": "ipython",
    "version": 3
   },
   "file_extension": ".py",
   "mimetype": "text/x-python",
   "name": "python",
   "nbconvert_exporter": "python",
   "pygments_lexer": "ipython3",
   "version": "3.8.12"
  },
  "toc-autonumbering": true,
  "vscode": {
   "interpreter": {
    "hash": "6431de17718b69329a5fdc8ec8a0d0daac3b636961074df198bba4bb10dc1643"
   }
  }
 },
 "nbformat": 4,
 "nbformat_minor": 4
}
