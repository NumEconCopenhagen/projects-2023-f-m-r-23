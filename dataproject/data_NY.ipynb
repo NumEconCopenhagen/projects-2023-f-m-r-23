{
 "cells": [
  {
   "cell_type": "markdown",
   "metadata": {},
   "source": [
    "# YOUR PROJECT TITLE"
   ]
  },
  {
   "cell_type": "markdown",
   "metadata": {},
   "source": [
    "> **Note the following:** \n",
    "> 1. This is *not* meant to be an example of an actual **data analysis project**, just an example of how to structure such a project.\n",
    "> 1. Remember the general advice on structuring and commenting your code\n",
    "> 1. The `dataproject.py` file includes a function which can be used multiple times in this notebook."
   ]
  },
  {
   "cell_type": "markdown",
   "metadata": {},
   "source": [
    "Imports and set magics:"
   ]
  },
  {
   "cell_type": "code",
   "execution_count": 1,
   "metadata": {},
   "outputs": [],
   "source": [
    "%load_ext autoreload\n",
    "%autoreload 2\n",
    "\n",
    "import pandas as pd\n",
    "import numpy as np\n",
    "# pip install git+https://github.com/alemartinello/dstapi\n",
    "from dstapi import DstApi\n",
    "\n",
    "import ipywidgets as widgets\n",
    "from ipywidgets import TwoByTwoLayout\n",
    "from IPython.display import display,clear_output\n",
    "import matplotlib.pyplot as plt\n",
    "import matplotlib\n",
    "import time\n",
    "\n",
    "import pandas as pd\n",
    "\n",
    "# user written modules\n",
    "# import dataproject\n"
   ]
  },
  {
   "cell_type": "markdown",
   "metadata": {},
   "source": [
    "# Read and clean data"
   ]
  },
  {
   "attachments": {},
   "cell_type": "markdown",
   "metadata": {},
   "source": [
    "The first data set we import is the population by age for each municipality in Denmark"
   ]
  },
  {
   "cell_type": "code",
   "execution_count": 2,
   "metadata": {},
   "outputs": [
    {
     "name": "stdout",
     "output_type": "stream",
     "text": [
      "Table FOLK1A: Population at the first day of the quarter by region, sex, age, marital status and time\n",
      "Last update: 2023-02-10T08:00:00\n"
     ]
    },
    {
     "data": {
      "text/html": [
       "<div>\n",
       "<style scoped>\n",
       "    .dataframe tbody tr th:only-of-type {\n",
       "        vertical-align: middle;\n",
       "    }\n",
       "\n",
       "    .dataframe tbody tr th {\n",
       "        vertical-align: top;\n",
       "    }\n",
       "\n",
       "    .dataframe thead th {\n",
       "        text-align: right;\n",
       "    }\n",
       "</style>\n",
       "<table border=\"1\" class=\"dataframe\">\n",
       "  <thead>\n",
       "    <tr style=\"text-align: right;\">\n",
       "      <th></th>\n",
       "      <th>variable name</th>\n",
       "      <th># values</th>\n",
       "      <th>First value</th>\n",
       "      <th>First value label</th>\n",
       "      <th>Last value</th>\n",
       "      <th>Last value label</th>\n",
       "      <th>Time variable</th>\n",
       "    </tr>\n",
       "  </thead>\n",
       "  <tbody>\n",
       "    <tr>\n",
       "      <th>0</th>\n",
       "      <td>OMRÅDE</td>\n",
       "      <td>105</td>\n",
       "      <td>000</td>\n",
       "      <td>All Denmark</td>\n",
       "      <td>851</td>\n",
       "      <td>Aalborg</td>\n",
       "      <td>False</td>\n",
       "    </tr>\n",
       "    <tr>\n",
       "      <th>1</th>\n",
       "      <td>KØN</td>\n",
       "      <td>3</td>\n",
       "      <td>TOT</td>\n",
       "      <td>Total</td>\n",
       "      <td>2</td>\n",
       "      <td>Women</td>\n",
       "      <td>False</td>\n",
       "    </tr>\n",
       "    <tr>\n",
       "      <th>2</th>\n",
       "      <td>ALDER</td>\n",
       "      <td>127</td>\n",
       "      <td>IALT</td>\n",
       "      <td>Total</td>\n",
       "      <td>125</td>\n",
       "      <td>125 years</td>\n",
       "      <td>False</td>\n",
       "    </tr>\n",
       "    <tr>\n",
       "      <th>3</th>\n",
       "      <td>CIVILSTAND</td>\n",
       "      <td>5</td>\n",
       "      <td>TOT</td>\n",
       "      <td>Total</td>\n",
       "      <td>F</td>\n",
       "      <td>Divorced</td>\n",
       "      <td>False</td>\n",
       "    </tr>\n",
       "    <tr>\n",
       "      <th>4</th>\n",
       "      <td>Tid</td>\n",
       "      <td>61</td>\n",
       "      <td>2008K1</td>\n",
       "      <td>2008Q1</td>\n",
       "      <td>2023K1</td>\n",
       "      <td>2023Q1</td>\n",
       "      <td>True</td>\n",
       "    </tr>\n",
       "  </tbody>\n",
       "</table>\n",
       "</div>"
      ],
      "text/plain": [
       "  variable name  # values First value First value label Last value  \\\n",
       "0        OMRÅDE       105         000       All Denmark        851   \n",
       "1           KØN         3         TOT             Total          2   \n",
       "2         ALDER       127        IALT             Total        125   \n",
       "3    CIVILSTAND         5         TOT             Total          F   \n",
       "4           Tid        61      2008K1            2008Q1     2023K1   \n",
       "\n",
       "  Last value label  Time variable  \n",
       "0          Aalborg          False  \n",
       "1            Women          False  \n",
       "2        125 years          False  \n",
       "3         Divorced          False  \n",
       "4           2023Q1           True  "
      ]
     },
     "execution_count": 2,
     "metadata": {},
     "output_type": "execute_result"
    }
   ],
   "source": [
    "ind = DstApi('FOLK1A') # connecting to dst API\n",
    "tabsum = ind.tablesummary(language='en')\n",
    "tabsum  # presenting summary of data"
   ]
  },
  {
   "cell_type": "code",
   "execution_count": 3,
   "metadata": {},
   "outputs": [],
   "source": [
    "# we are only interested in municipalities and not regions, so we loop thrugh all variables\n",
    "# in 'OMRÅDER' and store the ID of municipalities\n",
    "kom = []\n",
    "for row, value in zip(ind.variable_levels('OMRÅDE')['id'],ind.variable_levels('OMRÅDE')['text']):\n",
    "    if 'Region' not in value:\n",
    "            kom.append(row)\n",
    "\n",
    "# importing data\n",
    "params = {'table':'FOLK1A',\n",
    "         'format':\"BULK\",\n",
    "         'variables':[{'code':'OMRÅDE','values':['*']},\n",
    "                     {'code':'KØN','values':['*']},\n",
    "                     {'code':'ALDER','values':['*']},\n",
    "                     {'code':'Tid','values':['*']},\n",
    "                     {'code':'CIVILSTAND','values':['TOT']}]}\n",
    "data = ind.get_data(params)"
   ]
  },
  {
   "cell_type": "code",
   "execution_count": 4,
   "metadata": {},
   "outputs": [],
   "source": [
    "# cleaning the data\n",
    "\n",
    "# the data is quartlery and set up as YYYYKX, we change the K to a Q such as it can be converted to datetime \n",
    "data['TID'] = pd.to_datetime(data.reset_index()['TID'].apply(lambda x: x.replace('K','Q')))\n",
    "# keep a selected number of columns\n",
    "data = data[data['KØN']=='I alt'][['TID','OMRÅDE','ALDER','INDHOLD']]\n",
    "# create column with the yearly value\n",
    "data['ÅR'] = data['TID'].dt.year\n",
    "# discard the three other quarterly observations\n",
    "data = data.groupby(['ÅR','OMRÅDE','ALDER']).last()\n",
    "# reset index\n",
    "data = data.reset_index()\n",
    "# dropping the original time denomination\n",
    "data = data.drop(columns = ['TID'])\n",
    "# convert the yearly column into integer type\n",
    "data['ÅR'] = data['ÅR'].astype(int)\n",
    "# discar the total population in each municipality\n",
    "data = data[data['ALDER'] != 'I alt']\n",
    "# convert age column into integers\n",
    "data['ALDER'] = data['ALDER'].str.strip(' år')\n",
    "data['ALDER'] = data['ALDER'].astype(int)"
   ]
  },
  {
   "attachments": {},
   "cell_type": "markdown",
   "metadata": {},
   "source": [
    "The second data set we import is the health care expenditures for each danish municipality from 2008-2022"
   ]
  },
  {
   "cell_type": "code",
   "execution_count": 5,
   "metadata": {},
   "outputs": [],
   "source": [
    "# connecting to dst\n",
    "ind = DstApi('REGK11')\n",
    "\n",
    "# choosing which variables to import\n",
    "params = {'table':'REGK11',\n",
    "        'format':\"BULK\",\n",
    "        'variables':[{'code':'OMRÅDE','values':['*']},\n",
    "                    {'code':'PRISENHED','values':['INDL']},\n",
    "                    {'code':'DRANST','values':['1']},\n",
    "                    {'code':'FUNK1','values':['4']},\n",
    "                    {'code':'ART','values':['TOT']},\n",
    "                    {'code':'TID','values':['>2007']}]}\n",
    "# importing data\n",
    "HC_EXP = ind.get_data(params)\n",
    "\n",
    "# dropping irrelevant and/or constant columns\n",
    "HC_EXP.drop(columns=['PRISENHED', 'DRANST', 'FUNK1', 'ART'],inplace=True)\n",
    "\n",
    "# renaming columns\n",
    "HC_EXP.rename(columns={'INDHOLD':'SUNDHEDSUDGIFTER'},inplace=True)"
   ]
  },
  {
   "cell_type": "markdown",
   "metadata": {},
   "source": [
    "# Merge data sets"
   ]
  },
  {
   "cell_type": "markdown",
   "metadata": {},
   "source": [
    "Now you create combinations of your loaded data sets. Remember the illustration of a (inner) **merge**:"
   ]
  },
  {
   "cell_type": "code",
   "execution_count": 6,
   "metadata": {},
   "outputs": [],
   "source": [
    "# renaming to merge later\n",
    "HC_EXP.rename(columns={'TID':'ÅR'},inplace=True)\n",
    "# merging on municipality and year, we discard all non-municpality observations in HC_EXP\n",
    "new_df = pd.merge(data, HC_EXP,  how='left', left_on=['OMRÅDE','ÅR'], right_on = ['OMRÅDE','ÅR'])\n",
    "# calculating the total population in each municipality\n",
    "samlet_bef = new_df.groupby(['ÅR','OMRÅDE'])['INDHOLD'].sum()\n",
    "# creaing new column for old people for convenience\n",
    "new_df['GAMLE'] = new_df['INDHOLD']\n",
    "new_df.loc[new_df['ALDER']<60,'GAMLE'] = 0\n",
    "# calculating the total number of old people in each municipality\n",
    "samlet_bef1 = new_df.groupby(['ÅR','OMRÅDE'])['GAMLE'].sum()\n",
    "df_ = pd.merge(samlet_bef, samlet_bef1,  how='left', left_on=['OMRÅDE','ÅR'], right_on = ['OMRÅDE','ÅR'])\n",
    "df_['ANDEL'] = df_['GAMLE']/df_['INDHOLD']\n",
    "# renaming columns and creating final merging\n",
    "df_.rename(columns={'INDHOLD':'SAMLET BEFOLKNING'},inplace=True)\n",
    "df_ = pd.merge(df_,HC_EXP,how='left', left_on=['OMRÅDE','ÅR'], right_on = ['OMRÅDE','ÅR'])"
   ]
  },
  {
   "cell_type": "markdown",
   "metadata": {},
   "source": [
    "## Explore each data set"
   ]
  },
  {
   "cell_type": "markdown",
   "metadata": {},
   "source": [
    "In order to be able to **explore the raw data**, you may provide **static** and **interactive plots** to show important developments "
   ]
  },
  {
   "cell_type": "markdown",
   "metadata": {},
   "source": [
    "**Interactive plot** :"
   ]
  },
  {
   "cell_type": "code",
   "execution_count": 7,
   "metadata": {},
   "outputs": [
    {
     "data": {
      "application/vnd.jupyter.widget-view+json": {
       "model_id": "a0cd54704fcb4d309c18d24881418878",
       "version_major": 2,
       "version_minor": 0
      },
      "text/plain": [
       "GridBox(children=(IntSlider(value=2008, description='Year:', max=2023, min=2008), SelectMultiple(description='…"
      ]
     },
     "metadata": {},
     "output_type": "display_data"
    },
    {
     "data": {
      "text/plain": [
       "<Figure size 640x480 with 0 Axes>"
      ]
     },
     "metadata": {},
     "output_type": "display_data"
    },
    {
     "data": {
      "text/plain": [
       "<Figure size 640x480 with 0 Axes>"
      ]
     },
     "metadata": {},
     "output_type": "display_data"
    },
    {
     "data": {
      "text/plain": [
       "<Figure size 640x480 with 0 Axes>"
      ]
     },
     "metadata": {},
     "output_type": "display_data"
    },
    {
     "data": {
      "text/plain": [
       "<Figure size 640x480 with 0 Axes>"
      ]
     },
     "metadata": {},
     "output_type": "display_data"
    },
    {
     "data": {
      "text/plain": [
       "<Figure size 640x480 with 0 Axes>"
      ]
     },
     "metadata": {},
     "output_type": "display_data"
    },
    {
     "data": {
      "text/plain": [
       "<Figure size 640x480 with 0 Axes>"
      ]
     },
     "metadata": {},
     "output_type": "display_data"
    },
    {
     "data": {
      "text/plain": [
       "<Figure size 640x480 with 0 Axes>"
      ]
     },
     "metadata": {},
     "output_type": "display_data"
    },
    {
     "data": {
      "text/plain": [
       "<Figure size 640x480 with 0 Axes>"
      ]
     },
     "metadata": {},
     "output_type": "display_data"
    },
    {
     "data": {
      "text/plain": [
       "<Figure size 640x480 with 0 Axes>"
      ]
     },
     "metadata": {},
     "output_type": "display_data"
    },
    {
     "data": {
      "text/plain": [
       "<Figure size 640x480 with 0 Axes>"
      ]
     },
     "metadata": {},
     "output_type": "display_data"
    },
    {
     "data": {
      "text/plain": [
       "<Figure size 640x480 with 0 Axes>"
      ]
     },
     "metadata": {},
     "output_type": "display_data"
    },
    {
     "data": {
      "text/plain": [
       "<Figure size 640x480 with 0 Axes>"
      ]
     },
     "metadata": {},
     "output_type": "display_data"
    },
    {
     "data": {
      "text/plain": [
       "<Figure size 640x480 with 0 Axes>"
      ]
     },
     "metadata": {},
     "output_type": "display_data"
    },
    {
     "data": {
      "text/plain": [
       "<Figure size 640x480 with 0 Axes>"
      ]
     },
     "metadata": {},
     "output_type": "display_data"
    },
    {
     "data": {
      "text/plain": [
       "<Figure size 640x480 with 0 Axes>"
      ]
     },
     "metadata": {},
     "output_type": "display_data"
    },
    {
     "data": {
      "text/plain": [
       "<Figure size 640x480 with 0 Axes>"
      ]
     },
     "metadata": {},
     "output_type": "display_data"
    },
    {
     "data": {
      "text/plain": [
       "<Figure size 640x480 with 0 Axes>"
      ]
     },
     "metadata": {},
     "output_type": "display_data"
    },
    {
     "data": {
      "text/plain": [
       "<Figure size 640x480 with 0 Axes>"
      ]
     },
     "metadata": {},
     "output_type": "display_data"
    },
    {
     "data": {
      "text/plain": [
       "<Figure size 640x480 with 0 Axes>"
      ]
     },
     "metadata": {},
     "output_type": "display_data"
    },
    {
     "data": {
      "text/plain": [
       "<Figure size 640x480 with 0 Axes>"
      ]
     },
     "metadata": {},
     "output_type": "display_data"
    },
    {
     "data": {
      "text/plain": [
       "<Figure size 640x480 with 0 Axes>"
      ]
     },
     "metadata": {},
     "output_type": "display_data"
    },
    {
     "data": {
      "text/plain": [
       "<Figure size 640x480 with 0 Axes>"
      ]
     },
     "metadata": {},
     "output_type": "display_data"
    },
    {
     "data": {
      "text/plain": [
       "<Figure size 640x480 with 0 Axes>"
      ]
     },
     "metadata": {},
     "output_type": "display_data"
    },
    {
     "data": {
      "text/plain": [
       "<Figure size 640x480 with 0 Axes>"
      ]
     },
     "metadata": {},
     "output_type": "display_data"
    },
    {
     "data": {
      "text/plain": [
       "<Figure size 640x480 with 0 Axes>"
      ]
     },
     "metadata": {},
     "output_type": "display_data"
    },
    {
     "data": {
      "text/plain": [
       "<Figure size 640x480 with 0 Axes>"
      ]
     },
     "metadata": {},
     "output_type": "display_data"
    },
    {
     "data": {
      "text/plain": [
       "<Figure size 640x480 with 0 Axes>"
      ]
     },
     "metadata": {},
     "output_type": "display_data"
    },
    {
     "data": {
      "text/plain": [
       "<Figure size 640x480 with 0 Axes>"
      ]
     },
     "metadata": {},
     "output_type": "display_data"
    },
    {
     "data": {
      "text/plain": [
       "<Figure size 640x480 with 0 Axes>"
      ]
     },
     "metadata": {},
     "output_type": "display_data"
    },
    {
     "data": {
      "text/plain": [
       "<Figure size 640x480 with 0 Axes>"
      ]
     },
     "metadata": {},
     "output_type": "display_data"
    },
    {
     "data": {
      "text/plain": [
       "<Figure size 640x480 with 0 Axes>"
      ]
     },
     "metadata": {},
     "output_type": "display_data"
    },
    {
     "data": {
      "text/plain": [
       "<Figure size 640x480 with 0 Axes>"
      ]
     },
     "metadata": {},
     "output_type": "display_data"
    },
    {
     "data": {
      "text/plain": [
       "<Figure size 640x480 with 0 Axes>"
      ]
     },
     "metadata": {},
     "output_type": "display_data"
    },
    {
     "data": {
      "text/plain": [
       "<Figure size 640x480 with 0 Axes>"
      ]
     },
     "metadata": {},
     "output_type": "display_data"
    },
    {
     "data": {
      "text/plain": [
       "<Figure size 640x480 with 0 Axes>"
      ]
     },
     "metadata": {},
     "output_type": "display_data"
    },
    {
     "data": {
      "text/plain": [
       "<Figure size 640x480 with 0 Axes>"
      ]
     },
     "metadata": {},
     "output_type": "display_data"
    },
    {
     "data": {
      "text/plain": [
       "<Figure size 640x480 with 0 Axes>"
      ]
     },
     "metadata": {},
     "output_type": "display_data"
    },
    {
     "data": {
      "text/plain": [
       "<Figure size 640x480 with 0 Axes>"
      ]
     },
     "metadata": {},
     "output_type": "display_data"
    },
    {
     "data": {
      "text/plain": [
       "<Figure size 640x480 with 0 Axes>"
      ]
     },
     "metadata": {},
     "output_type": "display_data"
    },
    {
     "data": {
      "text/plain": [
       "<Figure size 640x480 with 0 Axes>"
      ]
     },
     "metadata": {},
     "output_type": "display_data"
    },
    {
     "data": {
      "text/plain": [
       "<Figure size 640x480 with 0 Axes>"
      ]
     },
     "metadata": {},
     "output_type": "display_data"
    },
    {
     "data": {
      "text/plain": [
       "<Figure size 640x480 with 0 Axes>"
      ]
     },
     "metadata": {},
     "output_type": "display_data"
    },
    {
     "data": {
      "text/plain": [
       "<Figure size 640x480 with 0 Axes>"
      ]
     },
     "metadata": {},
     "output_type": "display_data"
    },
    {
     "data": {
      "text/plain": [
       "<Figure size 640x480 with 0 Axes>"
      ]
     },
     "metadata": {},
     "output_type": "display_data"
    },
    {
     "data": {
      "text/plain": [
       "<Figure size 640x480 with 0 Axes>"
      ]
     },
     "metadata": {},
     "output_type": "display_data"
    },
    {
     "data": {
      "text/plain": [
       "<Figure size 640x480 with 0 Axes>"
      ]
     },
     "metadata": {},
     "output_type": "display_data"
    },
    {
     "data": {
      "text/plain": [
       "<Figure size 640x480 with 0 Axes>"
      ]
     },
     "metadata": {},
     "output_type": "display_data"
    },
    {
     "data": {
      "text/plain": [
       "<Figure size 640x480 with 0 Axes>"
      ]
     },
     "metadata": {},
     "output_type": "display_data"
    },
    {
     "data": {
      "text/plain": [
       "<Figure size 640x480 with 0 Axes>"
      ]
     },
     "metadata": {},
     "output_type": "display_data"
    },
    {
     "data": {
      "text/plain": [
       "<Figure size 640x480 with 0 Axes>"
      ]
     },
     "metadata": {},
     "output_type": "display_data"
    },
    {
     "data": {
      "text/plain": [
       "<Figure size 640x480 with 0 Axes>"
      ]
     },
     "metadata": {},
     "output_type": "display_data"
    },
    {
     "data": {
      "text/plain": [
       "<Figure size 640x480 with 0 Axes>"
      ]
     },
     "metadata": {},
     "output_type": "display_data"
    },
    {
     "data": {
      "text/plain": [
       "<Figure size 640x480 with 0 Axes>"
      ]
     },
     "metadata": {},
     "output_type": "display_data"
    },
    {
     "data": {
      "text/plain": [
       "<Figure size 640x480 with 0 Axes>"
      ]
     },
     "metadata": {},
     "output_type": "display_data"
    },
    {
     "data": {
      "text/plain": [
       "<Figure size 640x480 with 0 Axes>"
      ]
     },
     "metadata": {},
     "output_type": "display_data"
    },
    {
     "data": {
      "text/plain": [
       "<Figure size 640x480 with 0 Axes>"
      ]
     },
     "metadata": {},
     "output_type": "display_data"
    },
    {
     "data": {
      "text/plain": [
       "<Figure size 640x480 with 0 Axes>"
      ]
     },
     "metadata": {},
     "output_type": "display_data"
    },
    {
     "data": {
      "text/plain": [
       "<Figure size 640x480 with 0 Axes>"
      ]
     },
     "metadata": {},
     "output_type": "display_data"
    },
    {
     "data": {
      "text/plain": [
       "<Figure size 640x480 with 0 Axes>"
      ]
     },
     "metadata": {},
     "output_type": "display_data"
    },
    {
     "data": {
      "text/plain": [
       "<Figure size 640x480 with 0 Axes>"
      ]
     },
     "metadata": {},
     "output_type": "display_data"
    },
    {
     "data": {
      "text/plain": [
       "<Figure size 640x480 with 0 Axes>"
      ]
     },
     "metadata": {},
     "output_type": "display_data"
    },
    {
     "data": {
      "text/plain": [
       "<Figure size 640x480 with 0 Axes>"
      ]
     },
     "metadata": {},
     "output_type": "display_data"
    },
    {
     "data": {
      "text/plain": [
       "<Figure size 640x480 with 0 Axes>"
      ]
     },
     "metadata": {},
     "output_type": "display_data"
    },
    {
     "data": {
      "text/plain": [
       "<Figure size 640x480 with 0 Axes>"
      ]
     },
     "metadata": {},
     "output_type": "display_data"
    },
    {
     "data": {
      "text/plain": [
       "<Figure size 640x480 with 0 Axes>"
      ]
     },
     "metadata": {},
     "output_type": "display_data"
    },
    {
     "data": {
      "text/plain": [
       "<Figure size 640x480 with 0 Axes>"
      ]
     },
     "metadata": {},
     "output_type": "display_data"
    },
    {
     "data": {
      "text/plain": [
       "<Figure size 640x480 with 0 Axes>"
      ]
     },
     "metadata": {},
     "output_type": "display_data"
    },
    {
     "data": {
      "text/plain": [
       "<Figure size 640x480 with 0 Axes>"
      ]
     },
     "metadata": {},
     "output_type": "display_data"
    },
    {
     "data": {
      "text/plain": [
       "<Figure size 640x480 with 0 Axes>"
      ]
     },
     "metadata": {},
     "output_type": "display_data"
    },
    {
     "data": {
      "text/plain": [
       "<Figure size 640x480 with 0 Axes>"
      ]
     },
     "metadata": {},
     "output_type": "display_data"
    },
    {
     "data": {
      "text/plain": [
       "<Figure size 640x480 with 0 Axes>"
      ]
     },
     "metadata": {},
     "output_type": "display_data"
    },
    {
     "data": {
      "text/plain": [
       "<Figure size 640x480 with 0 Axes>"
      ]
     },
     "metadata": {},
     "output_type": "display_data"
    },
    {
     "data": {
      "text/plain": [
       "<Figure size 640x480 with 0 Axes>"
      ]
     },
     "metadata": {},
     "output_type": "display_data"
    },
    {
     "data": {
      "text/plain": [
       "<Figure size 640x480 with 0 Axes>"
      ]
     },
     "metadata": {},
     "output_type": "display_data"
    },
    {
     "data": {
      "text/plain": [
       "<Figure size 640x480 with 0 Axes>"
      ]
     },
     "metadata": {},
     "output_type": "display_data"
    },
    {
     "data": {
      "text/plain": [
       "<Figure size 640x480 with 0 Axes>"
      ]
     },
     "metadata": {},
     "output_type": "display_data"
    },
    {
     "data": {
      "text/plain": [
       "<Figure size 640x480 with 0 Axes>"
      ]
     },
     "metadata": {},
     "output_type": "display_data"
    },
    {
     "data": {
      "text/plain": [
       "<Figure size 640x480 with 0 Axes>"
      ]
     },
     "metadata": {},
     "output_type": "display_data"
    },
    {
     "data": {
      "text/plain": [
       "<Figure size 640x480 with 0 Axes>"
      ]
     },
     "metadata": {},
     "output_type": "display_data"
    },
    {
     "data": {
      "text/plain": [
       "<Figure size 640x480 with 0 Axes>"
      ]
     },
     "metadata": {},
     "output_type": "display_data"
    },
    {
     "data": {
      "text/plain": [
       "<Figure size 640x480 with 0 Axes>"
      ]
     },
     "metadata": {},
     "output_type": "display_data"
    },
    {
     "data": {
      "text/plain": [
       "<Figure size 640x480 with 0 Axes>"
      ]
     },
     "metadata": {},
     "output_type": "display_data"
    },
    {
     "data": {
      "text/plain": [
       "<Figure size 640x480 with 0 Axes>"
      ]
     },
     "metadata": {},
     "output_type": "display_data"
    },
    {
     "data": {
      "text/plain": [
       "<Figure size 640x480 with 0 Axes>"
      ]
     },
     "metadata": {},
     "output_type": "display_data"
    },
    {
     "data": {
      "text/plain": [
       "<Figure size 640x480 with 0 Axes>"
      ]
     },
     "metadata": {},
     "output_type": "display_data"
    },
    {
     "data": {
      "text/plain": [
       "<Figure size 640x480 with 0 Axes>"
      ]
     },
     "metadata": {},
     "output_type": "display_data"
    },
    {
     "data": {
      "text/plain": [
       "<Figure size 640x480 with 0 Axes>"
      ]
     },
     "metadata": {},
     "output_type": "display_data"
    },
    {
     "data": {
      "text/plain": [
       "<Figure size 640x480 with 0 Axes>"
      ]
     },
     "metadata": {},
     "output_type": "display_data"
    },
    {
     "data": {
      "text/plain": [
       "<Figure size 640x480 with 0 Axes>"
      ]
     },
     "metadata": {},
     "output_type": "display_data"
    },
    {
     "data": {
      "text/plain": [
       "<Figure size 640x480 with 0 Axes>"
      ]
     },
     "metadata": {},
     "output_type": "display_data"
    },
    {
     "data": {
      "text/plain": [
       "<Figure size 640x480 with 0 Axes>"
      ]
     },
     "metadata": {},
     "output_type": "display_data"
    },
    {
     "data": {
      "text/plain": [
       "<Figure size 640x480 with 0 Axes>"
      ]
     },
     "metadata": {},
     "output_type": "display_data"
    },
    {
     "data": {
      "text/plain": [
       "<Figure size 640x480 with 0 Axes>"
      ]
     },
     "metadata": {},
     "output_type": "display_data"
    },
    {
     "data": {
      "text/plain": [
       "<Figure size 640x480 with 0 Axes>"
      ]
     },
     "metadata": {},
     "output_type": "display_data"
    },
    {
     "data": {
      "text/plain": [
       "<Figure size 640x480 with 0 Axes>"
      ]
     },
     "metadata": {},
     "output_type": "display_data"
    },
    {
     "data": {
      "text/plain": [
       "<Figure size 640x480 with 0 Axes>"
      ]
     },
     "metadata": {},
     "output_type": "display_data"
    }
   ],
   "source": [
    "def plot_graph1(change=None):\n",
    "    plot_graph_1(output_widget)\n",
    "\n",
    "def plot_graph2(change=None):\n",
    "    plot_graph_2(output_widget2)\n",
    "\n",
    "def plot_graph_1(output):\n",
    "    year = year_slider.value\n",
    "    municipal = municipal_slider.value\n",
    "    \n",
    "    # Filter the DataFrame based on the selected year and municipal\n",
    "    filtered_df = data[data['ÅR'] == year]\n",
    "    filtered_df = filtered_df[filtered_df['OMRÅDE'].isin(municipal)]\n",
    "\n",
    "    # Create the bar plot\n",
    "    plt.barh(filtered_df['ALDER'].unique(), filtered_df['INDHOLD'])\n",
    "    plt.title(f\"Values for year {year}\")\n",
    "    plt.xlabel(\"Antal\")\n",
    "    plt.ylabel(\"År\")\n",
    "    plt.tight_layout()\n",
    "\n",
    "    # Display the graph in the output widget\n",
    "    with output:\n",
    "        output.clear_output(wait=True)\n",
    "        display(plt.gcf())\n",
    "        \n",
    "    plt.clf()\n",
    "    \n",
    "def plot_graph_2(output):\n",
    "\n",
    "    year = year_slider.value\n",
    "    municipal = municipal_slider.value\n",
    "    \n",
    "    filtered_df = df_[df_['OMRÅDE'].isin(municipal)]\n",
    "    \n",
    "    xx = filtered_df['ANDEL']\n",
    "    yy = filtered_df['SUNDHEDSUDGIFTER']\n",
    "    \n",
    "    plt.scatter(xx,yy)\n",
    "\n",
    "    for i, txt in enumerate(filtered_df['ÅR'].unique()):\n",
    "        plt.annotate(txt, (xx.values[i], yy.values[i]))\n",
    "    plt.xlabel('Share of population $\\geq$60 years')\n",
    "    plt.ylabel('Health care expenditure per capita, DKK')\n",
    "    ax = plt.gca()\n",
    "    ax.get_yaxis().set_major_formatter(matplotlib.ticker.FuncFormatter(lambda x, p: format(int(x), ',')))\n",
    "        \n",
    "    with output:\n",
    "        output.clear_output(wait=True)\n",
    "        display(plt.gcf())\n",
    "\n",
    "        \n",
    "    plt.clf()\n",
    "\n",
    "# Create the year slider\n",
    "year_slider = widgets.IntSlider(\n",
    "    value=data['ÅR'].min(),\n",
    "    min=data['ÅR'].min(),\n",
    "    max=data['ÅR'].max(),\n",
    "    step=1,\n",
    "    description=\"Year:\",\n",
    "    continuous_update=True,\n",
    ")\n",
    "\n",
    "# Create the municipal slider\n",
    "municipal_slider = widgets.SelectMultiple(\n",
    "    options=data['OMRÅDE'].unique(),\n",
    "    value=['Ærø'],\n",
    "    description='Municipal:',\n",
    "    disabled=False,\n",
    ")\n",
    "\n",
    "# Create the output widgets\n",
    "output_widget = widgets.Output()\n",
    "output_widget2 = widgets.Output()\n",
    "\n",
    "# Observe the slider changes and update the graphs\n",
    "year_slider.observe(plot_graph1, names='value')\n",
    "municipal_slider.observe(plot_graph1, names='value')\n",
    "\n",
    "year_slider.observe(plot_graph2, names='value')\n",
    "municipal_slider.observe(plot_graph2, names='value')\n",
    "\n",
    "# Create a 2x2 GridBox layout\n",
    "layout = widgets.GridBox(\n",
    "    children=[year_slider, municipal_slider, output_widget, output_widget2],\n",
    "    layout=widgets.Layout(\n",
    "        width='100%',\n",
    "        grid_template_columns='50% 50%',\n",
    "        grid_template_rows='25% 50%',\n",
    "        grid_gap='10px',\n",
    "        grid_template_areas='''\n",
    "            \"year_slider municipal_slider\"\n",
    "            \"output_widget output_widget2\"\n",
    "        ''')\n",
    ")\n",
    "\n",
    "# Initialize the graphs\n",
    "plot_graph1()\n",
    "plot_graph2()\n",
    "\n",
    "# Display the GridBox layout\n",
    "display(layout)\n"
   ]
  },
  {
   "cell_type": "markdown",
   "metadata": {},
   "source": [
    "Explain what you see when moving elements of the interactive plot around. "
   ]
  },
  {
   "cell_type": "markdown",
   "metadata": {},
   "source": [
    "# Analysis"
   ]
  },
  {
   "attachments": {},
   "cell_type": "markdown",
   "metadata": {},
   "source": [
    "To get a quick overview of the data, we show some **summary statistics** on a meaningful aggregation. \n",
    "\n",
    "vil du lave en tabel med nogle deskriptive tal omkring vores datasæt og en figur der sammenligner en hovedstadskommune og Langeland.\n",
    "\n"
   ]
  },
  {
   "cell_type": "code",
   "execution_count": 47,
   "metadata": {},
   "outputs": [
    {
     "data": {
      "image/png": "[encoded data removed]",
      "text/plain": [
       "<Figure size 640x480 with 1 Axes>"
      ]
     },
     "metadata": {},
     "output_type": "display_data"
    }
   ],
   "source": [
    "# Comparing two municipalities \n",
    "df_lang = df_.loc[df_[\"OMRÅDE\"] == \"Langeland\"]\n",
    "df_kob = df_.loc[df_[\"OMRÅDE\"] == \"København\"]\n",
    "\n",
    "df_lang = df_lang[:-2]\n",
    "df_kob = df_kob[:-2]\n",
    "\n",
    "N = len(df_lang[\"ÅR\"])\n",
    "\n",
    "ind = np.arange(N)  # the x locations for the groups\n",
    "width = 0.35       # the width of the bars\n",
    "\n",
    "fig = plt.figure()\n",
    "ax = fig.add_subplot(111)\n",
    "l = ax.plot(ind, df_lang[\"ANDEL\"], width, color='red')\n",
    "k = ax.plot(ind+width, df_kob[\"ANDEL\"], width, color='seagreen')\n",
    "\n",
    "ax.set_xticks(ind + width / 2)\n",
    "ax.set_xticklabels( df_lang[\"ÅR\"])\n",
    "\n",
    "ax.legend( (l[0], k[0]), ('Langeland', 'København'))\n",
    "\n",
    "ax.tick_params(axis='x', rotation=45)\n",
    "\n",
    "plt.xlabel(\"Year\")\n",
    "plt.ylabel(\"Share of population $\\geq$ 60\")\n",
    "\n",
    "plt.show()\n"
   ]
  },
  {
   "cell_type": "markdown",
   "metadata": {},
   "source": [
    "MAKE FURTHER ANALYSIS. EXPLAIN THE CODE BRIEFLY AND SUMMARIZE THE RESULTS."
   ]
  },
  {
   "cell_type": "code",
   "execution_count": 55,
   "metadata": {},
   "outputs": [
    {
     "data": {
      "image/png": "[encoded data removed]",
      "text/plain": [
       "<Figure size 640x480 with 1 Axes>"
      ]
     },
     "metadata": {},
     "output_type": "display_data"
    }
   ],
   "source": [
    "#Comparing the 5 regions\n",
    "df_regh = df_.loc[df_[\"OMRÅDE\"] == \"Region Hovedstaden\"]\n",
    "df_regmj = df_.loc[df_[\"OMRÅDE\"] == \"Region Midtjylland\"]\n",
    "df_regnj = df_.loc[df_[\"OMRÅDE\"] == \"Region Nordjylland\"]\n",
    "df_regsj = df_.loc[df_[\"OMRÅDE\"] == \"Region Sjælland\"]\n",
    "df_regsy = df_.loc[df_[\"OMRÅDE\"] == \"Region Syddanmark\"]\n",
    "\n",
    "df_regh = df_regh[:-2]\n",
    "df_regmj = df_regmj[:-2]\n",
    "df_regnj = df_regnj[:-2]\n",
    "df_regsj = df_regsj[:-2]\n",
    "df_regsy = df_regsy[:-2]\n",
    "\n",
    "N = len(df_regh[\"ÅR\"])\n",
    "\n",
    "ind = np.arange(N)  # the x locations for the groups\n",
    "width = 0.15       # the width of the bars\n",
    "\n",
    "fig = plt.figure()\n",
    "ax = fig.add_subplot(111)\n",
    "h = ax.plot(ind, df_regh[\"ANDEL\"], width, color='red')\n",
    "mj = ax.plot(ind+width, df_regmj[\"ANDEL\"], width, color='seagreen')\n",
    "nj = ax.plot(ind+width+width, df_regnj[\"ANDEL\"], width, color='blue')\n",
    "sj = ax.plot(ind+width+width+width, df_regsj[\"ANDEL\"], width, color='yellow')\n",
    "sy = ax.plot(ind+width+width+width+width, df_regsy[\"ANDEL\"], width, color='purple')\n",
    "\n",
    "ax.set_xticks(ind + width / 2)\n",
    "ax.set_xticklabels( df_regh[\"ÅR\"])\n",
    "\n",
    "ax.legend( (h[0], mj[0], nj[0], sj[0], sy[0]), ('Hovedstad', 'MidtJ', 'NordJ', 'Sjælland', 'SydDK'))\n",
    "\n",
    "ax.tick_params(axis='x', rotation=45)\n",
    "\n",
    "plt.xlabel(\"Year\")\n",
    "plt.ylabel(\"Share of population $\\geq$ 60\")\n",
    "\n",
    "plt.show()"
   ]
  },
  {
   "cell_type": "code",
   "execution_count": 71,
   "metadata": {},
   "outputs": [
    {
     "name": "stdout",
     "output_type": "stream",
     "text": [
      "0.2740887099993117\n",
      "0.2635219544257402\n"
     ]
    }
   ],
   "source": [
    "average = df_['ANDEL'].mean()\n",
    "print(average)\n",
    "\n",
    "med = df_['ANDEL'].median()\n",
    "print(med)"
   ]
  },
  {
   "cell_type": "markdown",
   "metadata": {},
   "source": [
    "# Conclusion"
   ]
  },
  {
   "cell_type": "markdown",
   "metadata": {},
   "source": [
    "ADD CONCISE CONLUSION."
   ]
  }
 ],
 "metadata": {
  "kernelspec": {
   "display_name": "base",
   "language": "python",
   "name": "python3"
  },
  "language_info": {
   "codemirror_mode": {
    "name": "ipython",
    "version": 3
   },
   "file_extension": ".py",
   "mimetype": "text/x-python",
   "name": "python",
   "nbconvert_exporter": "python",
   "pygments_lexer": "ipython3",
   "version": "3.9.13"
  },
  "toc-autonumbering": true,
  "vscode": {
   "interpreter": {
    "hash": "8555ce875475270064ebf09dc49763b384133b18125bab92a5f5068b64cc2601"
   }
  }
 },
 "nbformat": 4,
 "nbformat_minor": 4
}
