{
 "cells": [
  {
   "cell_type": "code",
   "execution_count": 1,
   "id": "51d1324f-d446-4555-ad6c-e41aaa7febf7",
   "metadata": {},
   "outputs": [],
   "source": [
    "import pandas as pd"
   ]
  },
  {
   "cell_type": "code",
   "execution_count": 2,
   "id": "97e57d5c-5f5e-4533-b90b-30f16d8eb3db",
   "metadata": {},
   "outputs": [],
   "source": [
    "REG = pd.read_csv(r\"C:\\Users\\B051733\\Downloads\\projects-2023-f-m-r-23-main\\projects-2023-f-m-r-23-main\\dataproject\\REGK11.csv\",index_col=0)\n",
    "BEF = pd.read_csv(r\"C:\\Users\\B051733\\Downloads\\projects-2023-f-m-r-23-main\\projects-2023-f-m-r-23-main\\dataproject\\FOLK1A_behandlet\",index_col=0)"
   ]
  },
  {
   "cell_type": "code",
   "execution_count": 3,
   "id": "1b12c52a-2b77-4a8e-a2ff-b2c8664ccaa3",
   "metadata": {},
   "outputs": [],
   "source": [
    "BEF.rename(columns={'ÅR':'TID'},inplace=True)\n",
    "new_df = pd.merge(BEF, REG,  how='left', left_on=['OMRÅDE','TID'], right_on = ['OMRÅDE','TID'])\n",
    "samlet_bef = new_df.groupby(['TID','OMRÅDE'])['INDHOLD'].sum()\n",
    "new_df['GAMLE'] = new_df['INDHOLD']\n",
    "new_df.loc[new_df['ALDER']<60,'GAMLE'] = 0\n",
    "samlet_bef1 = new_df.groupby(['TID','OMRÅDE'])['GAMLE'].sum()\n",
    "df_ = pd.merge(samlet_bef, samlet_bef1,  how='left', left_on=['OMRÅDE','TID'], right_on = ['OMRÅDE','TID'])\n",
    "df_['ANDEL'] = df_['GAMLE']/df_['INDHOLD']\n",
    "df_.rename(columns={'INDHOLD':'SAMLET BEFOLKNING'},inplace=True)"
   ]
  },
  {
   "cell_type": "code",
   "execution_count": 1,
   "id": "c657b669-b5b7-4a35-8dd6-5d7acc910e22",
   "metadata": {},
   "outputs": [
    {
     "ename": "NameError",
     "evalue": "name 'BEF' is not defined",
     "output_type": "error",
     "traceback": [
      "\u001b[0;31m---------------------------------------------------------------------------\u001b[0m",
      "\u001b[0;31mNameError\u001b[0m                                 Traceback (most recent call last)",
      "\u001b[0;32m/var/folders/s_/kppp_4wd5kgdzsjgp9xhfg280000gn/T/ipykernel_88449/3478893813.py\u001b[0m in \u001b[0;36m<module>\u001b[0;34m\u001b[0m\n\u001b[0;32m----> 1\u001b[0;31m \u001b[0mBEF\u001b[0m\u001b[0;34m\u001b[0m\u001b[0;34m\u001b[0m\u001b[0m\n\u001b[0m",
      "\u001b[0;31mNameError\u001b[0m: name 'BEF' is not defined"
     ]
    }
   ],
   "source": [
    "BEF"
   ]
  },
  {
   "cell_type": "code",
   "execution_count": null,
   "id": "09f648ea-2156-437d-b789-e71164d4735b",
   "metadata": {},
   "outputs": [],
   "source": []
  }
 ],
 "metadata": {
  "kernelspec": {
   "display_name": "Python 3 (ipykernel)",
   "language": "python",
   "name": "python3"
  },
  "language_info": {
   "codemirror_mode": {
    "name": "ipython",
    "version": 3
   },
   "file_extension": ".py",
   "mimetype": "text/x-python",
   "name": "python",
   "nbconvert_exporter": "python",
   "pygments_lexer": "ipython3",
   "version": "3.8.12"
  }
 },
 "nbformat": 4,
 "nbformat_minor": 5
}
