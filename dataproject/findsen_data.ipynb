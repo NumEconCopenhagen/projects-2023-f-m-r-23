{
 "cells": [
  {
   "cell_type": "code",
   "execution_count": 95,
   "id": "164535ee-5698-47d7-95cd-670d21e126ed",
   "metadata": {},
   "outputs": [],
   "source": [
    "%load_ext autoreload\n",
    "%autoreload 2\n",
    "\n",
    "import pandas as pd\n",
    "import numpy as np\n",
    "# pip install git+https://github.com/alemartinello/dstapi\n",
    "from dstapi import DstApi\n",
    "\n",
    "import ipywidgets as widgets\n",
    "from ipywidgets import TwoByTwoLayout\n",
    "from IPython.display import display,clear_output\n",
    "import matplotlib.pyplot as plt\n",
    "import matplotlib\n",
    "import time\n",
    "\n",
    "import pandas as pd"
   ]
  },
  {
   "cell_type": "code",
   "execution_count": 99,
   "id": "d638a74e",
   "metadata": {},
   "outputs": [
    {
     "ename": "ModuleNotFoundError",
     "evalue": "No module named 'dataprojectv12'",
     "output_type": "error",
     "traceback": [
      "\u001b[0;31m---------------------------------------------------------------------------\u001b[0m",
      "\u001b[0;31mModuleNotFoundError\u001b[0m                       Traceback (most recent call last)",
      "\u001b[0;32m/var/folders/5_/q7_rkk8s3f93r3hl8phlkc880000gp/T/ipykernel_90892/602499242.py\u001b[0m in \u001b[0;36m<module>\u001b[0;34m\u001b[0m\n\u001b[0;32m----> 1\u001b[0;31m \u001b[0;32mimport\u001b[0m \u001b[0mdataprojectv12\u001b[0m \u001b[0;32mas\u001b[0m \u001b[0mdp\u001b[0m\u001b[0;34m\u001b[0m\u001b[0;34m\u001b[0m\u001b[0m\n\u001b[0m",
      "\u001b[0;31mModuleNotFoundError\u001b[0m: No module named 'dataprojectv12'"
     ]
    }
   ],
   "source": [
    "import dataprojectv12 as dp"
   ]
  },
  {
   "cell_type": "code",
   "execution_count": 98,
   "id": "975dc077",
   "metadata": {},
   "outputs": [
    {
     "ename": "AttributeError",
     "evalue": "module 'dataproject' has no attribute 'import_REG'",
     "output_type": "error",
     "traceback": [
      "\u001b[0;31m---------------------------------------------------------------------------\u001b[0m",
      "\u001b[0;31mAttributeError\u001b[0m                            Traceback (most recent call last)",
      "\u001b[0;32m/var/folders/5_/q7_rkk8s3f93r3hl8phlkc880000gp/T/ipykernel_90892/2680237552.py\u001b[0m in \u001b[0;36m<module>\u001b[0;34m\u001b[0m\n\u001b[0;32m----> 1\u001b[0;31m \u001b[0mREG\u001b[0m \u001b[0;34m=\u001b[0m \u001b[0mdp\u001b[0m\u001b[0;34m.\u001b[0m\u001b[0mimport_REG\u001b[0m\u001b[0;34m(\u001b[0m\u001b[0;34m)\u001b[0m\u001b[0;34m\u001b[0m\u001b[0;34m\u001b[0m\u001b[0m\n\u001b[0m",
      "\u001b[0;31mAttributeError\u001b[0m: module 'dataproject' has no attribute 'import_REG'"
     ]
    }
   ],
   "source": [
    "REG = dp.import_REG()"
   ]
  },
  {
   "cell_type": "code",
   "execution_count": 87,
   "id": "b2f5aec8",
   "metadata": {},
   "outputs": [],
   "source": [
    "def import_REG():\n",
    "\n",
    "    # connecting to dst\n",
    "    ind = DstApi('REGK11')\n",
    "\n",
    "    # choosing which variables to import\n",
    "    params = {'table':'REGK11',\n",
    "         'format':\"BULK\",\n",
    "         'variables':[{'code':'OMRÅDE','values':['*']},\n",
    "                     {'code':'PRISENHED','values':['INDL']},\n",
    "                     {'code':'DRANST','values':['1']},\n",
    "                     {'code':'FUNK1','values':['4']},\n",
    "                     {'code':'ART','values':['TOT']},\n",
    "                     {'code':'TID','values':['>2007']}]}\n",
    "    # importing data\n",
    "    data = ind.get_data(params)\n",
    "\n",
    "    # dropping irrelevant and/or constant columns\n",
    "    data.drop(columns=['PRISENHED', 'DRANST', 'FUNK1', 'ART'],inplace=True)\n",
    "\n",
    "    # renaming columns\n",
    "    data.rename(columns={'INDHOLD':'SUNDHEDSUDGIFTER'},inplace=True)\n",
    "\n",
    "    return data"
   ]
  },
  {
   "cell_type": "code",
   "execution_count": 56,
   "id": "e9ae4d30",
   "metadata": {},
   "outputs": [
    {
     "name": "stdout",
     "output_type": "stream",
     "text": [
      "Table FOLK1A: Population at the first day of the quarter by region, sex, age, marital status and time\n",
      "Last update: 2023-02-10T08:00:00\n"
     ]
    },
    {
     "data": {
      "text/html": [
       "<div>\n",
       "<style scoped>\n",
       "    .dataframe tbody tr th:only-of-type {\n",
       "        vertical-align: middle;\n",
       "    }\n",
       "\n",
       "    .dataframe tbody tr th {\n",
       "        vertical-align: top;\n",
       "    }\n",
       "\n",
       "    .dataframe thead th {\n",
       "        text-align: right;\n",
       "    }\n",
       "</style>\n",
       "<table border=\"1\" class=\"dataframe\">\n",
       "  <thead>\n",
       "    <tr style=\"text-align: right;\">\n",
       "      <th></th>\n",
       "      <th>variable name</th>\n",
       "      <th># values</th>\n",
       "      <th>First value</th>\n",
       "      <th>First value label</th>\n",
       "      <th>Last value</th>\n",
       "      <th>Last value label</th>\n",
       "      <th>Time variable</th>\n",
       "    </tr>\n",
       "  </thead>\n",
       "  <tbody>\n",
       "    <tr>\n",
       "      <th>0</th>\n",
       "      <td>OMRÅDE</td>\n",
       "      <td>105</td>\n",
       "      <td>000</td>\n",
       "      <td>All Denmark</td>\n",
       "      <td>851</td>\n",
       "      <td>Aalborg</td>\n",
       "      <td>False</td>\n",
       "    </tr>\n",
       "    <tr>\n",
       "      <th>1</th>\n",
       "      <td>KØN</td>\n",
       "      <td>3</td>\n",
       "      <td>TOT</td>\n",
       "      <td>Total</td>\n",
       "      <td>2</td>\n",
       "      <td>Women</td>\n",
       "      <td>False</td>\n",
       "    </tr>\n",
       "    <tr>\n",
       "      <th>2</th>\n",
       "      <td>ALDER</td>\n",
       "      <td>127</td>\n",
       "      <td>IALT</td>\n",
       "      <td>Total</td>\n",
       "      <td>125</td>\n",
       "      <td>125 years</td>\n",
       "      <td>False</td>\n",
       "    </tr>\n",
       "    <tr>\n",
       "      <th>3</th>\n",
       "      <td>CIVILSTAND</td>\n",
       "      <td>5</td>\n",
       "      <td>TOT</td>\n",
       "      <td>Total</td>\n",
       "      <td>F</td>\n",
       "      <td>Divorced</td>\n",
       "      <td>False</td>\n",
       "    </tr>\n",
       "    <tr>\n",
       "      <th>4</th>\n",
       "      <td>Tid</td>\n",
       "      <td>61</td>\n",
       "      <td>2008K1</td>\n",
       "      <td>2008Q1</td>\n",
       "      <td>2023K1</td>\n",
       "      <td>2023Q1</td>\n",
       "      <td>True</td>\n",
       "    </tr>\n",
       "  </tbody>\n",
       "</table>\n",
       "</div>"
      ],
      "text/plain": [
       "  variable name  # values First value First value label Last value  \\\n",
       "0        OMRÅDE       105         000       All Denmark        851   \n",
       "1           KØN         3         TOT             Total          2   \n",
       "2         ALDER       127        IALT             Total        125   \n",
       "3    CIVILSTAND         5         TOT             Total          F   \n",
       "4           Tid        61      2008K1            2008Q1     2023K1   \n",
       "\n",
       "  Last value label  Time variable  \n",
       "0          Aalborg          False  \n",
       "1            Women          False  \n",
       "2        125 years          False  \n",
       "3         Divorced          False  \n",
       "4           2023Q1           True  "
      ]
     },
     "execution_count": 56,
     "metadata": {},
     "output_type": "execute_result"
    }
   ],
   "source": [
    "ind = DstApi('FOLK1A') # connecting to dst API\n",
    "tabsum = ind.tablesummary(language='en')\n",
    "tabsum  # presenting summary of data"
   ]
  },
  {
   "cell_type": "code",
   "execution_count": 58,
   "id": "75689fb1",
   "metadata": {},
   "outputs": [
    {
     "name": "stdout",
     "output_type": "stream",
     "text": [
      "Table FOLK1A: Population at the first day of the quarter by region, sex, age, marital status and time\n",
      "Last update: 2023-02-10T08:00:00\n"
     ]
    }
   ],
   "source": [
    "# we are only interested in municipalities and not regions, so we loop thrugh all variables\n",
    "# in 'OMRÅDER' and store the ID of municipalities\n",
    "kom = []\n",
    "for row, value in zip(ind.variable_levels('OMRÅDE')['id'],ind.variable_levels('OMRÅDE')['text']):\n",
    "    if 'Region' not in value:\n",
    "            kom.append(row)"
   ]
  },
  {
   "cell_type": "code",
   "execution_count": 59,
   "id": "a285a4f9-1d45-43b6-aef2-5557476ed4b1",
   "metadata": {},
   "outputs": [],
   "source": [
    "# importing data\n",
    "params = {'table':'FOLK1A',\n",
    "         'format':\"BULK\",\n",
    "         'variables':[{'code':'OMRÅDE','values':['*']},\n",
    "                     {'code':'KØN','values':['*']},\n",
    "                     {'code':'ALDER','values':['*']},\n",
    "                     {'code':'Tid','values':['*']},\n",
    "                     {'code':'CIVILSTAND','values':['TOT']}]}\n",
    "data = ind.get_data(params)"
   ]
  },
  {
   "cell_type": "code",
   "execution_count": 61,
   "id": "6c223821-dc17-456c-8259-4c46b413f335",
   "metadata": {},
   "outputs": [],
   "source": [
    "def change_format(inn):\n",
    "    return inn.replace('K','Q')\n",
    "# data = pd.read_csv('FOLK1A',index_col=[0])\n",
    "data['TID'] = pd.to_datetime(data.reset_index()['TID'].apply(change_format))\n",
    "#data.resample('Y').last()\n",
    "data = data[data['KØN']=='I alt'][['TID','OMRÅDE','ALDER','INDHOLD']]\n",
    "data['ÅR'] = data['TID'].dt.year\n",
    "data = data.groupby(['ÅR','OMRÅDE','ALDER']).last()\n",
    "data = data.reset_index()\n",
    "data = data.drop(columns = ['TID'])\n",
    "data['ÅR'] = data['ÅR'].astype(int)\n",
    "data = data[data['ALDER'] != 'I alt']\n",
    "data['ALDER'] = data['ALDER'].str.strip(' år')\n",
    "data['ALDER'] = data['ALDER'].astype(int)"
   ]
  },
  {
   "cell_type": "code",
   "execution_count": null,
   "id": "f075dfbd",
   "metadata": {},
   "outputs": [],
   "source": []
  },
  {
   "cell_type": "code",
   "execution_count": 62,
   "id": "12d6b274-a5f3-4a46-baf7-ecdc5d656937",
   "metadata": {},
   "outputs": [],
   "source": [
    "REG = pd.read_csv('REGK11.csv',index_col=0)\n",
    "BEF = data"
   ]
  },
  {
   "cell_type": "code",
   "execution_count": 63,
   "id": "755e67ad-a817-470a-8b96-c82ec594c1a2",
   "metadata": {},
   "outputs": [],
   "source": [
    "BEF.rename(columns={'ÅR':'TID'},inplace=True)\n",
    "new_df = pd.merge(BEF, REG,  how='left', left_on=['OMRÅDE','TID'], right_on = ['OMRÅDE','TID'])\n",
    "samlet_bef = new_df.groupby(['TID','OMRÅDE'])['INDHOLD'].sum()\n",
    "new_df['GAMLE'] = new_df['INDHOLD']\n",
    "new_df.loc[new_df['ALDER']<60,'GAMLE'] = 0\n",
    "samlet_bef1 = new_df.groupby(['TID','OMRÅDE'])['GAMLE'].sum()\n",
    "df_ = pd.merge(samlet_bef, samlet_bef1,  how='left', left_on=['OMRÅDE','TID'], right_on = ['OMRÅDE','TID'])\n",
    "df_['ANDEL'] = df_['GAMLE']/df_['INDHOLD']\n",
    "df_.rename(columns={'INDHOLD':'SAMLET BEFOLKNING'},inplace=True)\n",
    "df_ = pd.merge(df_,REG,how='left', left_on=['OMRÅDE','TID'], right_on = ['OMRÅDE','TID'])"
   ]
  },
  {
   "cell_type": "code",
   "execution_count": 64,
   "id": "2ba053de-ac03-4a56-b861-fe974bfdb4ed",
   "metadata": {},
   "outputs": [
    {
     "data": {
      "text/html": [
       "<div>\n",
       "<style scoped>\n",
       "    .dataframe tbody tr th:only-of-type {\n",
       "        vertical-align: middle;\n",
       "    }\n",
       "\n",
       "    .dataframe tbody tr th {\n",
       "        vertical-align: top;\n",
       "    }\n",
       "\n",
       "    .dataframe thead th {\n",
       "        text-align: right;\n",
       "    }\n",
       "</style>\n",
       "<table border=\"1\" class=\"dataframe\">\n",
       "  <thead>\n",
       "    <tr style=\"text-align: right;\">\n",
       "      <th></th>\n",
       "      <th>OMRÅDE</th>\n",
       "      <th>TID</th>\n",
       "      <th>SAMLET BEFOLKNING</th>\n",
       "      <th>GAMLE</th>\n",
       "      <th>ANDEL</th>\n",
       "      <th>SUNDHEDSUDGIFTER</th>\n",
       "    </tr>\n",
       "  </thead>\n",
       "  <tbody>\n",
       "    <tr>\n",
       "      <th>0</th>\n",
       "      <td>Aabenraa</td>\n",
       "      <td>2008</td>\n",
       "      <td>60284</td>\n",
       "      <td>14561</td>\n",
       "      <td>0.241540</td>\n",
       "      <td>2635.0</td>\n",
       "    </tr>\n",
       "    <tr>\n",
       "      <th>1</th>\n",
       "      <td>Aalborg</td>\n",
       "      <td>2008</td>\n",
       "      <td>195145</td>\n",
       "      <td>42502</td>\n",
       "      <td>0.217797</td>\n",
       "      <td>2393.0</td>\n",
       "    </tr>\n",
       "    <tr>\n",
       "      <th>2</th>\n",
       "      <td>Aarhus</td>\n",
       "      <td>2008</td>\n",
       "      <td>298711</td>\n",
       "      <td>53213</td>\n",
       "      <td>0.178142</td>\n",
       "      <td>2394.0</td>\n",
       "    </tr>\n",
       "    <tr>\n",
       "      <th>3</th>\n",
       "      <td>Albertslund</td>\n",
       "      <td>2008</td>\n",
       "      <td>27566</td>\n",
       "      <td>5414</td>\n",
       "      <td>0.196401</td>\n",
       "      <td>2598.0</td>\n",
       "    </tr>\n",
       "    <tr>\n",
       "      <th>4</th>\n",
       "      <td>Allerød</td>\n",
       "      <td>2008</td>\n",
       "      <td>23515</td>\n",
       "      <td>5253</td>\n",
       "      <td>0.223389</td>\n",
       "      <td>2618.0</td>\n",
       "    </tr>\n",
       "    <tr>\n",
       "      <th>...</th>\n",
       "      <td>...</td>\n",
       "      <td>...</td>\n",
       "      <td>...</td>\n",
       "      <td>...</td>\n",
       "      <td>...</td>\n",
       "      <td>...</td>\n",
       "    </tr>\n",
       "    <tr>\n",
       "      <th>1675</th>\n",
       "      <td>Vejle</td>\n",
       "      <td>2023</td>\n",
       "      <td>120949</td>\n",
       "      <td>30525</td>\n",
       "      <td>0.252379</td>\n",
       "      <td>NaN</td>\n",
       "    </tr>\n",
       "    <tr>\n",
       "      <th>1676</th>\n",
       "      <td>Vesthimmerlands</td>\n",
       "      <td>2023</td>\n",
       "      <td>36431</td>\n",
       "      <td>11754</td>\n",
       "      <td>0.322637</td>\n",
       "      <td>NaN</td>\n",
       "    </tr>\n",
       "    <tr>\n",
       "      <th>1677</th>\n",
       "      <td>Viborg</td>\n",
       "      <td>2023</td>\n",
       "      <td>97731</td>\n",
       "      <td>27318</td>\n",
       "      <td>0.279522</td>\n",
       "      <td>NaN</td>\n",
       "    </tr>\n",
       "    <tr>\n",
       "      <th>1678</th>\n",
       "      <td>Vordingborg</td>\n",
       "      <td>2023</td>\n",
       "      <td>45441</td>\n",
       "      <td>16655</td>\n",
       "      <td>0.366519</td>\n",
       "      <td>NaN</td>\n",
       "    </tr>\n",
       "    <tr>\n",
       "      <th>1679</th>\n",
       "      <td>Ærø</td>\n",
       "      <td>2023</td>\n",
       "      <td>6008</td>\n",
       "      <td>2811</td>\n",
       "      <td>0.467876</td>\n",
       "      <td>NaN</td>\n",
       "    </tr>\n",
       "  </tbody>\n",
       "</table>\n",
       "<p>1680 rows × 6 columns</p>\n",
       "</div>"
      ],
      "text/plain": [
       "               OMRÅDE   TID  SAMLET BEFOLKNING  GAMLE     ANDEL  \\\n",
       "0            Aabenraa  2008              60284  14561  0.241540   \n",
       "1             Aalborg  2008             195145  42502  0.217797   \n",
       "2              Aarhus  2008             298711  53213  0.178142   \n",
       "3         Albertslund  2008              27566   5414  0.196401   \n",
       "4             Allerød  2008              23515   5253  0.223389   \n",
       "...               ...   ...                ...    ...       ...   \n",
       "1675            Vejle  2023             120949  30525  0.252379   \n",
       "1676  Vesthimmerlands  2023              36431  11754  0.322637   \n",
       "1677           Viborg  2023              97731  27318  0.279522   \n",
       "1678      Vordingborg  2023              45441  16655  0.366519   \n",
       "1679              Ærø  2023               6008   2811  0.467876   \n",
       "\n",
       "      SUNDHEDSUDGIFTER  \n",
       "0               2635.0  \n",
       "1               2393.0  \n",
       "2               2394.0  \n",
       "3               2598.0  \n",
       "4               2618.0  \n",
       "...                ...  \n",
       "1675               NaN  \n",
       "1676               NaN  \n",
       "1677               NaN  \n",
       "1678               NaN  \n",
       "1679               NaN  \n",
       "\n",
       "[1680 rows x 6 columns]"
      ]
     },
     "execution_count": 64,
     "metadata": {},
     "output_type": "execute_result"
    }
   ],
   "source": [
    "df_"
   ]
  },
  {
   "cell_type": "code",
   "execution_count": 83,
   "id": "4a6cfe8c-b39a-4154-942b-d62efebae634",
   "metadata": {},
   "outputs": [
    {
     "data": {
      "application/vnd.jupyter.widget-view+json": {
       "model_id": "b1db312a4f004fb3a85eca31b8fef9f3",
       "version_major": 2,
       "version_minor": 0
      },
      "text/plain": [
       "GridBox(children=(IntSlider(value=2008, description='Year:', max=2023, min=2008), SelectMultiple(description='…"
      ]
     },
     "metadata": {},
     "output_type": "display_data"
    },
    {
     "data": {
      "text/plain": [
       "<Figure size 432x288 with 0 Axes>"
      ]
     },
     "metadata": {},
     "output_type": "display_data"
    },
    {
     "data": {
      "text/plain": [
       "<Figure size 432x288 with 0 Axes>"
      ]
     },
     "metadata": {},
     "output_type": "display_data"
    },
    {
     "data": {
      "text/plain": [
       "<Figure size 432x288 with 0 Axes>"
      ]
     },
     "metadata": {},
     "output_type": "display_data"
    },
    {
     "data": {
      "text/plain": [
       "<Figure size 432x288 with 0 Axes>"
      ]
     },
     "metadata": {},
     "output_type": "display_data"
    },
    {
     "data": {
      "text/plain": [
       "<Figure size 432x288 with 0 Axes>"
      ]
     },
     "metadata": {},
     "output_type": "display_data"
    }
   ],
   "source": [
    "def plot_graph1(change=None):\n",
    "    plot_graph_1(output_widget)\n",
    "\n",
    "def plot_graph2(change=None):\n",
    "    plot_graph_2(output_widget2)\n",
    "\n",
    "def plot_graph_1(output):\n",
    "    year = year_slider.value\n",
    "    municipal = municipal_slider.value\n",
    "    \n",
    "    # Filter the DataFrame based on the selected year and municipal\n",
    "    filtered_df = data[data['TID'] == year]\n",
    "    filtered_df = filtered_df[filtered_df['OMRÅDE'].isin(municipal)]\n",
    "\n",
    "    # Create the bar plot\n",
    "    plt.barh(filtered_df['ALDER'].unique(), filtered_df['INDHOLD'])\n",
    "    plt.title(f\"Values for year {year}\")\n",
    "    plt.xlabel(\"Antal\")\n",
    "    plt.ylabel(\"År\")\n",
    "    plt.tight_layout()\n",
    "\n",
    "    # Display the graph in the output widget\n",
    "    with output:\n",
    "        output.clear_output(wait=True)\n",
    "        display(plt.gcf())\n",
    "        \n",
    "    plt.clf()\n",
    "    \n",
    "def plot_graph_2(output):\n",
    "\n",
    "    year = year_slider.value\n",
    "    municipal = municipal_slider.value\n",
    "    \n",
    "    filtered_df = df_[df_['OMRÅDE'].isin(municipal)]\n",
    "    \n",
    "    xx = filtered_df['ANDEL']\n",
    "    yy = filtered_df['SUNDHEDSUDGIFTER']\n",
    "    \n",
    "    plt.scatter(xx,yy)\n",
    "\n",
    "    for i, txt in enumerate(filtered_df['TID'].unique()):\n",
    "        plt.annotate(txt, (xx.values[i], yy.values[i]))\n",
    "    plt.xlabel('Share of population $\\geq$60 years')\n",
    "    plt.ylabel('Health care expenditure per capita, DKK')\n",
    "    ax = plt.gca()\n",
    "    ax.get_yaxis().set_major_formatter(matplotlib.ticker.FuncFormatter(lambda x, p: format(int(x), ',')))\n",
    "        \n",
    "    with output:\n",
    "        output.clear_output(wait=True)\n",
    "        display(plt.gcf())\n",
    "\n",
    "        \n",
    "    plt.clf()\n",
    "\n",
    "# Create the year slider\n",
    "year_slider = widgets.IntSlider(\n",
    "    value=data['TID'].min(),\n",
    "    min=data['TID'].min(),\n",
    "    max=data['TID'].max(),\n",
    "    step=1,\n",
    "    description=\"Year:\",\n",
    "    continuous_update=True,\n",
    ")\n",
    "\n",
    "# Create the municipal slider\n",
    "municipal_slider = widgets.SelectMultiple(\n",
    "    options=data['OMRÅDE'].unique(),\n",
    "    value=['Ærø'],\n",
    "    description='Municipal:',\n",
    "    disabled=False,\n",
    ")\n",
    "\n",
    "# Create the output widgets\n",
    "output_widget = widgets.Output()\n",
    "output_widget2 = widgets.Output()\n",
    "\n",
    "# Observe the slider changes and update the graphs\n",
    "year_slider.observe(plot_graph1, names='value')\n",
    "municipal_slider.observe(plot_graph1, names='value')\n",
    "\n",
    "year_slider.observe(plot_graph2, names='value')\n",
    "municipal_slider.observe(plot_graph2, names='value')\n",
    "\n",
    "# Create a 2x2 GridBox layout\n",
    "layout = widgets.GridBox(\n",
    "    children=[year_slider, municipal_slider, output_widget, output_widget2],\n",
    "    layout=widgets.Layout(\n",
    "        width='100%',\n",
    "        grid_template_columns='50% 50%',\n",
    "        grid_template_rows='25% 50%',\n",
    "        grid_gap='10px',\n",
    "        grid_template_areas='''\n",
    "            \"year_slider municipal_slider\"\n",
    "            \"output_widget output_widget2\"\n",
    "        ''')\n",
    ")\n",
    "\n",
    "# Initialize the graphs\n",
    "plot_graph1()\n",
    "plot_graph2()\n",
    "\n",
    "# Display the GridBox layout\n",
    "display(layout)\n"
   ]
  },
  {
   "cell_type": "code",
   "execution_count": null,
   "id": "71529bf8-0ca1-4868-9fdb-177b47b17963",
   "metadata": {},
   "outputs": [],
   "source": []
  }
 ],
 "metadata": {
  "kernelspec": {
   "display_name": "base",
   "language": "python",
   "name": "python3"
  },
  "language_info": {
   "codemirror_mode": {
    "name": "ipython",
    "version": 3
   },
   "file_extension": ".py",
   "mimetype": "text/x-python",
   "name": "python",
   "nbconvert_exporter": "python",
   "pygments_lexer": "ipython3",
   "version": "3.7.13 (default, Mar 28 2022, 07:24:34) \n[Clang 12.0.0 ]"
  },
  "vscode": {
   "interpreter": {
    "hash": "6431de17718b69329a5fdc8ec8a0d0daac3b636961074df198bba4bb10dc1643"
   }
  }
 },
 "nbformat": 4,
 "nbformat_minor": 5
}
