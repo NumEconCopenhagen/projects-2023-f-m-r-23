{
 "cells": [
  {
   "cell_type": "code",
   "execution_count": 419,
   "id": "164535ee-5698-47d7-95cd-670d21e126ed",
   "metadata": {},
   "outputs": [
    {
     "name": "stdout",
     "output_type": "stream",
     "text": [
      "The autoreload extension is already loaded. To reload it, use:\n",
      "  %reload_ext autoreload\n"
     ]
    }
   ],
   "source": [
    "%load_ext autoreload\n",
    "%autoreload 2\n",
    "\n",
    "import pandas as pd\n",
    "import numpy as np\n",
    "# pip install git+https://github.com/alemartinello/dstapi\n",
    "from dstapi import DstApi\n",
    "\n",
    "import ipywidgets as widgets\n",
    "from ipywidgets import TwoByTwoLayout\n",
    "from IPython.display import display,clear_output\n",
    "import matplotlib.pyplot as plt\n",
    "import matplotlib\n",
    "import time\n",
    "\n",
    "import statsmodels.api as sm\n",
    "import pandas as pd\n",
    "\n",
    "from linearmodels import PanelOLS"
   ]
  },
  {
   "cell_type": "code",
   "execution_count": 99,
   "id": "d638a74e",
   "metadata": {},
   "outputs": [
    {
     "ename": "ModuleNotFoundError",
     "evalue": "No module named 'dataprojectv12'",
     "output_type": "error",
     "traceback": [
      "\u001b[0;31m---------------------------------------------------------------------------\u001b[0m",
      "\u001b[0;31mModuleNotFoundError\u001b[0m                       Traceback (most recent call last)",
      "\u001b[0;32m/var/folders/5_/q7_rkk8s3f93r3hl8phlkc880000gp/T/ipykernel_90892/602499242.py\u001b[0m in \u001b[0;36m<module>\u001b[0;34m\u001b[0m\n\u001b[0;32m----> 1\u001b[0;31m \u001b[0;32mimport\u001b[0m \u001b[0mdataprojectv12\u001b[0m \u001b[0;32mas\u001b[0m \u001b[0mdp\u001b[0m\u001b[0;34m\u001b[0m\u001b[0;34m\u001b[0m\u001b[0m\n\u001b[0m",
      "\u001b[0;31mModuleNotFoundError\u001b[0m: No module named 'dataprojectv12'"
     ]
    }
   ],
   "source": [
    "import dataprojectv12 as dp"
   ]
  },
  {
   "cell_type": "code",
   "execution_count": 98,
   "id": "975dc077",
   "metadata": {},
   "outputs": [
    {
     "ename": "AttributeError",
     "evalue": "module 'dataproject' has no attribute 'import_REG'",
     "output_type": "error",
     "traceback": [
      "\u001b[0;31m---------------------------------------------------------------------------\u001b[0m",
      "\u001b[0;31mAttributeError\u001b[0m                            Traceback (most recent call last)",
      "\u001b[0;32m/var/folders/5_/q7_rkk8s3f93r3hl8phlkc880000gp/T/ipykernel_90892/2680237552.py\u001b[0m in \u001b[0;36m<module>\u001b[0;34m\u001b[0m\n\u001b[0;32m----> 1\u001b[0;31m \u001b[0mREG\u001b[0m \u001b[0;34m=\u001b[0m \u001b[0mdp\u001b[0m\u001b[0;34m.\u001b[0m\u001b[0mimport_REG\u001b[0m\u001b[0;34m(\u001b[0m\u001b[0;34m)\u001b[0m\u001b[0;34m\u001b[0m\u001b[0;34m\u001b[0m\u001b[0m\n\u001b[0m",
      "\u001b[0;31mAttributeError\u001b[0m: module 'dataproject' has no attribute 'import_REG'"
     ]
    }
   ],
   "source": [
    "REG = dp.import_REG()"
   ]
  },
  {
   "cell_type": "code",
   "execution_count": 87,
   "id": "b2f5aec8",
   "metadata": {},
   "outputs": [],
   "source": [
    "def import_REG():\n",
    "\n",
    "    # connecting to dst\n",
    "    ind = DstApi('REGK11')\n",
    "\n",
    "    # choosing which variables to import\n",
    "    params = {'table':'REGK11',\n",
    "         'format':\"BULK\",\n",
    "         'variables':[{'code':'OMRÅDE','values':['*']},\n",
    "                     {'code':'PRISENHED','values':['INDL']},\n",
    "                     {'code':'DRANST','values':['1']},\n",
    "                     {'code':'FUNK1','values':['4']},\n",
    "                     {'code':'ART','values':['TOT']},\n",
    "                     {'code':'TID','values':['>2007']}]}\n",
    "    # importing data\n",
    "    data = ind.get_data(params)\n",
    "\n",
    "    # dropping irrelevant and/or constant columns\n",
    "    data.drop(columns=['PRISENHED', 'DRANST', 'FUNK1', 'ART'],inplace=True)\n",
    "\n",
    "    # renaming columns\n",
    "    data.rename(columns={'INDHOLD':'SUNDHEDSUDGIFTER'},inplace=True)\n",
    "\n",
    "    return data"
   ]
  },
  {
   "cell_type": "code",
   "execution_count": 56,
   "id": "e9ae4d30",
   "metadata": {},
   "outputs": [
    {
     "name": "stdout",
     "output_type": "stream",
     "text": [
      "Table FOLK1A: Population at the first day of the quarter by region, sex, age, marital status and time\n",
      "Last update: 2023-02-10T08:00:00\n"
     ]
    },
    {
     "data": {
      "text/html": [
       "<div>\n",
       "<style scoped>\n",
       "    .dataframe tbody tr th:only-of-type {\n",
       "        vertical-align: middle;\n",
       "    }\n",
       "\n",
       "    .dataframe tbody tr th {\n",
       "        vertical-align: top;\n",
       "    }\n",
       "\n",
       "    .dataframe thead th {\n",
       "        text-align: right;\n",
       "    }\n",
       "</style>\n",
       "<table border=\"1\" class=\"dataframe\">\n",
       "  <thead>\n",
       "    <tr style=\"text-align: right;\">\n",
       "      <th></th>\n",
       "      <th>variable name</th>\n",
       "      <th># values</th>\n",
       "      <th>First value</th>\n",
       "      <th>First value label</th>\n",
       "      <th>Last value</th>\n",
       "      <th>Last value label</th>\n",
       "      <th>Time variable</th>\n",
       "    </tr>\n",
       "  </thead>\n",
       "  <tbody>\n",
       "    <tr>\n",
       "      <th>0</th>\n",
       "      <td>OMRÅDE</td>\n",
       "      <td>105</td>\n",
       "      <td>000</td>\n",
       "      <td>All Denmark</td>\n",
       "      <td>851</td>\n",
       "      <td>Aalborg</td>\n",
       "      <td>False</td>\n",
       "    </tr>\n",
       "    <tr>\n",
       "      <th>1</th>\n",
       "      <td>KØN</td>\n",
       "      <td>3</td>\n",
       "      <td>TOT</td>\n",
       "      <td>Total</td>\n",
       "      <td>2</td>\n",
       "      <td>Women</td>\n",
       "      <td>False</td>\n",
       "    </tr>\n",
       "    <tr>\n",
       "      <th>2</th>\n",
       "      <td>ALDER</td>\n",
       "      <td>127</td>\n",
       "      <td>IALT</td>\n",
       "      <td>Total</td>\n",
       "      <td>125</td>\n",
       "      <td>125 years</td>\n",
       "      <td>False</td>\n",
       "    </tr>\n",
       "    <tr>\n",
       "      <th>3</th>\n",
       "      <td>CIVILSTAND</td>\n",
       "      <td>5</td>\n",
       "      <td>TOT</td>\n",
       "      <td>Total</td>\n",
       "      <td>F</td>\n",
       "      <td>Divorced</td>\n",
       "      <td>False</td>\n",
       "    </tr>\n",
       "    <tr>\n",
       "      <th>4</th>\n",
       "      <td>Tid</td>\n",
       "      <td>61</td>\n",
       "      <td>2008K1</td>\n",
       "      <td>2008Q1</td>\n",
       "      <td>2023K1</td>\n",
       "      <td>2023Q1</td>\n",
       "      <td>True</td>\n",
       "    </tr>\n",
       "  </tbody>\n",
       "</table>\n",
       "</div>"
      ],
      "text/plain": [
       "  variable name  # values First value First value label Last value  \\\n",
       "0        OMRÅDE       105         000       All Denmark        851   \n",
       "1           KØN         3         TOT             Total          2   \n",
       "2         ALDER       127        IALT             Total        125   \n",
       "3    CIVILSTAND         5         TOT             Total          F   \n",
       "4           Tid        61      2008K1            2008Q1     2023K1   \n",
       "\n",
       "  Last value label  Time variable  \n",
       "0          Aalborg          False  \n",
       "1            Women          False  \n",
       "2        125 years          False  \n",
       "3         Divorced          False  \n",
       "4           2023Q1           True  "
      ]
     },
     "execution_count": 56,
     "metadata": {},
     "output_type": "execute_result"
    }
   ],
   "source": [
    "ind = DstApi('FOLK1A') # connecting to dst API\n",
    "tabsum = ind.tablesummary(language='en')\n",
    "tabsum  # presenting summary of data"
   ]
  },
  {
   "cell_type": "code",
   "execution_count": 58,
   "id": "75689fb1",
   "metadata": {},
   "outputs": [
    {
     "name": "stdout",
     "output_type": "stream",
     "text": [
      "Table FOLK1A: Population at the first day of the quarter by region, sex, age, marital status and time\n",
      "Last update: 2023-02-10T08:00:00\n"
     ]
    }
   ],
   "source": [
    "# we are only interested in municipalities and not regions, so we loop thrugh all variables\n",
    "# in 'OMRÅDER' and store the ID of municipalities\n",
    "kom = []\n",
    "for row, value in zip(ind.variable_levels('OMRÅDE')['id'],ind.variable_levels('OMRÅDE')['text']):\n",
    "    if 'Region' not in value:\n",
    "            kom.append(row)"
   ]
  },
  {
   "cell_type": "code",
   "execution_count": 59,
   "id": "a285a4f9-1d45-43b6-aef2-5557476ed4b1",
   "metadata": {},
   "outputs": [],
   "source": [
    "# importing data\n",
    "params = {'table':'FOLK1A',\n",
    "         'format':\"BULK\",\n",
    "         'variables':[{'code':'OMRÅDE','values':['*']},\n",
    "                     {'code':'KØN','values':['*']},\n",
    "                     {'code':'ALDER','values':['*']},\n",
    "                     {'code':'Tid','values':['*']},\n",
    "                     {'code':'CIVILSTAND','values':['TOT']}]}\n",
    "data = ind.get_data(params)"
   ]
  },
  {
   "cell_type": "code",
   "execution_count": 383,
   "id": "6c223821-dc17-456c-8259-4c46b413f335",
   "metadata": {},
   "outputs": [
    {
     "ename": "AttributeError",
     "evalue": "'int' object has no attribute 'replace'",
     "output_type": "error",
     "traceback": [
      "\u001b[0;31m---------------------------------------------------------------------------\u001b[0m",
      "\u001b[0;31mAttributeError\u001b[0m                            Traceback (most recent call last)",
      "\u001b[0;32m/var/folders/s_/kppp_4wd5kgdzsjgp9xhfg280000gn/T/ipykernel_85984/939787936.py\u001b[0m in \u001b[0;36m<module>\u001b[0;34m\u001b[0m\n\u001b[1;32m      2\u001b[0m     \u001b[0;32mreturn\u001b[0m \u001b[0minn\u001b[0m\u001b[0;34m.\u001b[0m\u001b[0mreplace\u001b[0m\u001b[0;34m(\u001b[0m\u001b[0;34m'K'\u001b[0m\u001b[0;34m,\u001b[0m\u001b[0;34m'Q'\u001b[0m\u001b[0;34m)\u001b[0m\u001b[0;34m\u001b[0m\u001b[0;34m\u001b[0m\u001b[0m\n\u001b[1;32m      3\u001b[0m \u001b[0;31m# data = pd.read_csv('FOLK1A',index_col=[0])\u001b[0m\u001b[0;34m\u001b[0m\u001b[0;34m\u001b[0m\u001b[0;34m\u001b[0m\u001b[0m\n\u001b[0;32m----> 4\u001b[0;31m \u001b[0mdata\u001b[0m\u001b[0;34m[\u001b[0m\u001b[0;34m'TID'\u001b[0m\u001b[0;34m]\u001b[0m \u001b[0;34m=\u001b[0m \u001b[0mpd\u001b[0m\u001b[0;34m.\u001b[0m\u001b[0mto_datetime\u001b[0m\u001b[0;34m(\u001b[0m\u001b[0mdata\u001b[0m\u001b[0;34m.\u001b[0m\u001b[0mreset_index\u001b[0m\u001b[0;34m(\u001b[0m\u001b[0;34m)\u001b[0m\u001b[0;34m[\u001b[0m\u001b[0;34m'TID'\u001b[0m\u001b[0;34m]\u001b[0m\u001b[0;34m.\u001b[0m\u001b[0mapply\u001b[0m\u001b[0;34m(\u001b[0m\u001b[0mchange_format\u001b[0m\u001b[0;34m)\u001b[0m\u001b[0;34m)\u001b[0m\u001b[0;34m\u001b[0m\u001b[0;34m\u001b[0m\u001b[0m\n\u001b[0m\u001b[1;32m      5\u001b[0m \u001b[0;31m#data.resample('Y').last()\u001b[0m\u001b[0;34m\u001b[0m\u001b[0;34m\u001b[0m\u001b[0;34m\u001b[0m\u001b[0m\n\u001b[1;32m      6\u001b[0m \u001b[0mdata\u001b[0m \u001b[0;34m=\u001b[0m \u001b[0mdata\u001b[0m\u001b[0;34m[\u001b[0m\u001b[0mdata\u001b[0m\u001b[0;34m[\u001b[0m\u001b[0;34m'KØN'\u001b[0m\u001b[0;34m]\u001b[0m\u001b[0;34m==\u001b[0m\u001b[0;34m'I alt'\u001b[0m\u001b[0;34m]\u001b[0m\u001b[0;34m[\u001b[0m\u001b[0;34m[\u001b[0m\u001b[0;34m'TID'\u001b[0m\u001b[0;34m,\u001b[0m\u001b[0;34m'OMRÅDE'\u001b[0m\u001b[0;34m,\u001b[0m\u001b[0;34m'ALDER'\u001b[0m\u001b[0;34m,\u001b[0m\u001b[0;34m'INDHOLD'\u001b[0m\u001b[0;34m]\u001b[0m\u001b[0;34m]\u001b[0m\u001b[0;34m\u001b[0m\u001b[0;34m\u001b[0m\u001b[0m\n",
      "\u001b[0;32m~/opt/anaconda3/lib/python3.8/site-packages/pandas/core/series.py\u001b[0m in \u001b[0;36mapply\u001b[0;34m(self, func, convert_dtype, args, **kwargs)\u001b[0m\n\u001b[1;32m   4431\u001b[0m         \u001b[0mdtype\u001b[0m\u001b[0;34m:\u001b[0m \u001b[0mfloat64\u001b[0m\u001b[0;34m\u001b[0m\u001b[0;34m\u001b[0m\u001b[0m\n\u001b[1;32m   4432\u001b[0m         \"\"\"\n\u001b[0;32m-> 4433\u001b[0;31m         \u001b[0;32mreturn\u001b[0m \u001b[0mSeriesApply\u001b[0m\u001b[0;34m(\u001b[0m\u001b[0mself\u001b[0m\u001b[0;34m,\u001b[0m \u001b[0mfunc\u001b[0m\u001b[0;34m,\u001b[0m \u001b[0mconvert_dtype\u001b[0m\u001b[0;34m,\u001b[0m \u001b[0margs\u001b[0m\u001b[0;34m,\u001b[0m \u001b[0mkwargs\u001b[0m\u001b[0;34m)\u001b[0m\u001b[0;34m.\u001b[0m\u001b[0mapply\u001b[0m\u001b[0;34m(\u001b[0m\u001b[0;34m)\u001b[0m\u001b[0;34m\u001b[0m\u001b[0;34m\u001b[0m\u001b[0m\n\u001b[0m\u001b[1;32m   4434\u001b[0m \u001b[0;34m\u001b[0m\u001b[0m\n\u001b[1;32m   4435\u001b[0m     def _reduce(\n",
      "\u001b[0;32m~/opt/anaconda3/lib/python3.8/site-packages/pandas/core/apply.py\u001b[0m in \u001b[0;36mapply\u001b[0;34m(self)\u001b[0m\n\u001b[1;32m   1080\u001b[0m             \u001b[0;32mreturn\u001b[0m \u001b[0mself\u001b[0m\u001b[0;34m.\u001b[0m\u001b[0mapply_str\u001b[0m\u001b[0;34m(\u001b[0m\u001b[0;34m)\u001b[0m\u001b[0;34m\u001b[0m\u001b[0;34m\u001b[0m\u001b[0m\n\u001b[1;32m   1081\u001b[0m \u001b[0;34m\u001b[0m\u001b[0m\n\u001b[0;32m-> 1082\u001b[0;31m         \u001b[0;32mreturn\u001b[0m \u001b[0mself\u001b[0m\u001b[0;34m.\u001b[0m\u001b[0mapply_standard\u001b[0m\u001b[0;34m(\u001b[0m\u001b[0;34m)\u001b[0m\u001b[0;34m\u001b[0m\u001b[0;34m\u001b[0m\u001b[0m\n\u001b[0m\u001b[1;32m   1083\u001b[0m \u001b[0;34m\u001b[0m\u001b[0m\n\u001b[1;32m   1084\u001b[0m     \u001b[0;32mdef\u001b[0m \u001b[0magg\u001b[0m\u001b[0;34m(\u001b[0m\u001b[0mself\u001b[0m\u001b[0;34m)\u001b[0m\u001b[0;34m:\u001b[0m\u001b[0;34m\u001b[0m\u001b[0;34m\u001b[0m\u001b[0m\n",
      "\u001b[0;32m~/opt/anaconda3/lib/python3.8/site-packages/pandas/core/apply.py\u001b[0m in \u001b[0;36mapply_standard\u001b[0;34m(self)\u001b[0m\n\u001b[1;32m   1135\u001b[0m                 \u001b[0;31m# List[Union[Callable[..., Any], str]]]]]\"; expected\u001b[0m\u001b[0;34m\u001b[0m\u001b[0;34m\u001b[0m\u001b[0;34m\u001b[0m\u001b[0m\n\u001b[1;32m   1136\u001b[0m                 \u001b[0;31m# \"Callable[[Any], Any]\"\u001b[0m\u001b[0;34m\u001b[0m\u001b[0;34m\u001b[0m\u001b[0;34m\u001b[0m\u001b[0m\n\u001b[0;32m-> 1137\u001b[0;31m                 mapped = lib.map_infer(\n\u001b[0m\u001b[1;32m   1138\u001b[0m                     \u001b[0mvalues\u001b[0m\u001b[0;34m,\u001b[0m\u001b[0;34m\u001b[0m\u001b[0;34m\u001b[0m\u001b[0m\n\u001b[1;32m   1139\u001b[0m                     \u001b[0mf\u001b[0m\u001b[0;34m,\u001b[0m  \u001b[0;31m# type: ignore[arg-type]\u001b[0m\u001b[0;34m\u001b[0m\u001b[0;34m\u001b[0m\u001b[0m\n",
      "\u001b[0;32m~/opt/anaconda3/lib/python3.8/site-packages/pandas/_libs/lib.pyx\u001b[0m in \u001b[0;36mpandas._libs.lib.map_infer\u001b[0;34m()\u001b[0m\n",
      "\u001b[0;32m/var/folders/s_/kppp_4wd5kgdzsjgp9xhfg280000gn/T/ipykernel_85984/939787936.py\u001b[0m in \u001b[0;36mchange_format\u001b[0;34m(inn)\u001b[0m\n\u001b[1;32m      1\u001b[0m \u001b[0;32mdef\u001b[0m \u001b[0mchange_format\u001b[0m\u001b[0;34m(\u001b[0m\u001b[0minn\u001b[0m\u001b[0;34m)\u001b[0m\u001b[0;34m:\u001b[0m\u001b[0;34m\u001b[0m\u001b[0;34m\u001b[0m\u001b[0m\n\u001b[0;32m----> 2\u001b[0;31m     \u001b[0;32mreturn\u001b[0m \u001b[0minn\u001b[0m\u001b[0;34m.\u001b[0m\u001b[0mreplace\u001b[0m\u001b[0;34m(\u001b[0m\u001b[0;34m'K'\u001b[0m\u001b[0;34m,\u001b[0m\u001b[0;34m'Q'\u001b[0m\u001b[0;34m)\u001b[0m\u001b[0;34m\u001b[0m\u001b[0;34m\u001b[0m\u001b[0m\n\u001b[0m\u001b[1;32m      3\u001b[0m \u001b[0;31m# data = pd.read_csv('FOLK1A',index_col=[0])\u001b[0m\u001b[0;34m\u001b[0m\u001b[0;34m\u001b[0m\u001b[0;34m\u001b[0m\u001b[0m\n\u001b[1;32m      4\u001b[0m \u001b[0mdata\u001b[0m\u001b[0;34m[\u001b[0m\u001b[0;34m'TID'\u001b[0m\u001b[0;34m]\u001b[0m \u001b[0;34m=\u001b[0m \u001b[0mpd\u001b[0m\u001b[0;34m.\u001b[0m\u001b[0mto_datetime\u001b[0m\u001b[0;34m(\u001b[0m\u001b[0mdata\u001b[0m\u001b[0;34m.\u001b[0m\u001b[0mreset_index\u001b[0m\u001b[0;34m(\u001b[0m\u001b[0;34m)\u001b[0m\u001b[0;34m[\u001b[0m\u001b[0;34m'TID'\u001b[0m\u001b[0;34m]\u001b[0m\u001b[0;34m.\u001b[0m\u001b[0mapply\u001b[0m\u001b[0;34m(\u001b[0m\u001b[0mchange_format\u001b[0m\u001b[0;34m)\u001b[0m\u001b[0;34m)\u001b[0m\u001b[0;34m\u001b[0m\u001b[0;34m\u001b[0m\u001b[0m\n\u001b[1;32m      5\u001b[0m \u001b[0;31m#data.resample('Y').last()\u001b[0m\u001b[0;34m\u001b[0m\u001b[0;34m\u001b[0m\u001b[0;34m\u001b[0m\u001b[0m\n",
      "\u001b[0;31mAttributeError\u001b[0m: 'int' object has no attribute 'replace'"
     ]
    }
   ],
   "source": [
    "def change_format(inn):\n",
    "    return inn.replace('K','Q')\n",
    "# data = pd.read_csv('FOLK1A',index_col=[0])\n",
    "data['TID'] = pd.to_datetime(data.reset_index()['TID'].apply(change_format))\n",
    "#data.resample('Y').last()\n",
    "data = data[data['KØN']=='I alt'][['TID','OMRÅDE','ALDER','INDHOLD']]\n",
    "data['ÅR'] = data['TID'].dt.year\n",
    "data = data.groupby(['ÅR','OMRÅDE','ALDER']).last()\n",
    "data = data.reset_index()\n",
    "data = data.drop(columns = ['TID'])\n",
    "data['ÅR'] = data['ÅR'].astype(int)\n",
    "data = data[data['ALDER'] != 'I alt']\n",
    "data['ALDER'] = data['ALDER'].str.strip(' år')\n",
    "data['ALDER'] = data['ALDER'].astype(int)"
   ]
  },
  {
   "cell_type": "code",
   "execution_count": null,
   "id": "f075dfbd",
   "metadata": {},
   "outputs": [],
   "source": []
  },
  {
   "cell_type": "code",
   "execution_count": 62,
   "id": "12d6b274-a5f3-4a46-baf7-ecdc5d656937",
   "metadata": {},
   "outputs": [],
   "source": [
    "REG = pd.read_csv('REGK11.csv',index_col=0)\n",
    "BEF = data"
   ]
  },
  {
   "cell_type": "code",
   "execution_count": 439,
   "id": "755e67ad-a817-470a-8b96-c82ec594c1a2",
   "metadata": {},
   "outputs": [],
   "source": [
    "BEF.rename(columns={'ÅR':'TID'},inplace=True)\n",
    "new_df = pd.merge(BEF, REG,  how='left', left_on=['OMRÅDE','TID'], right_on = ['OMRÅDE','TID'])\n",
    "samlet_bef = new_df.groupby(['TID','OMRÅDE'])['INDHOLD'].sum()\n",
    "new_df['GAMLE'] = new_df['INDHOLD']\n",
    "new_df.loc[new_df['ALDER']<60,'GAMLE'] = 0\n",
    "samlet_bef1 = new_df.groupby(['TID','OMRÅDE'])['GAMLE'].sum()\n",
    "df_ = pd.merge(samlet_bef, samlet_bef1,  how='left', left_on=['OMRÅDE','TID'], right_on = ['OMRÅDE','TID'])\n",
    "df_['ANDEL'] = df_['GAMLE']/df_['INDHOLD']\n",
    "df_.rename(columns={'INDHOLD':'SAMLET BEFOLKNING'},inplace=True)\n",
    "df_ = pd.merge(df_,REG,how='left', left_on=['OMRÅDE','TID'], right_on = ['OMRÅDE','TID'])"
   ]
  },
  {
   "cell_type": "code",
   "execution_count": 440,
   "id": "2ba053de-ac03-4a56-b861-fe974bfdb4ed",
   "metadata": {},
   "outputs": [
    {
     "data": {
      "text/html": [
       "<div>\n",
       "<style scoped>\n",
       "    .dataframe tbody tr th:only-of-type {\n",
       "        vertical-align: middle;\n",
       "    }\n",
       "\n",
       "    .dataframe tbody tr th {\n",
       "        vertical-align: top;\n",
       "    }\n",
       "\n",
       "    .dataframe thead th {\n",
       "        text-align: right;\n",
       "    }\n",
       "</style>\n",
       "<table border=\"1\" class=\"dataframe\">\n",
       "  <thead>\n",
       "    <tr style=\"text-align: right;\">\n",
       "      <th></th>\n",
       "      <th>OMRÅDE</th>\n",
       "      <th>TID</th>\n",
       "      <th>SAMLET BEFOLKNING</th>\n",
       "      <th>GAMLE</th>\n",
       "      <th>ANDEL</th>\n",
       "      <th>SUNDHEDSUDGIFTER</th>\n",
       "    </tr>\n",
       "  </thead>\n",
       "  <tbody>\n",
       "    <tr>\n",
       "      <th>0</th>\n",
       "      <td>Aabenraa</td>\n",
       "      <td>2008</td>\n",
       "      <td>60284</td>\n",
       "      <td>14561</td>\n",
       "      <td>0.241540</td>\n",
       "      <td>2635.0</td>\n",
       "    </tr>\n",
       "    <tr>\n",
       "      <th>1</th>\n",
       "      <td>Aalborg</td>\n",
       "      <td>2008</td>\n",
       "      <td>195145</td>\n",
       "      <td>42502</td>\n",
       "      <td>0.217797</td>\n",
       "      <td>2393.0</td>\n",
       "    </tr>\n",
       "    <tr>\n",
       "      <th>2</th>\n",
       "      <td>Aarhus</td>\n",
       "      <td>2008</td>\n",
       "      <td>298711</td>\n",
       "      <td>53213</td>\n",
       "      <td>0.178142</td>\n",
       "      <td>2394.0</td>\n",
       "    </tr>\n",
       "    <tr>\n",
       "      <th>3</th>\n",
       "      <td>Albertslund</td>\n",
       "      <td>2008</td>\n",
       "      <td>27566</td>\n",
       "      <td>5414</td>\n",
       "      <td>0.196401</td>\n",
       "      <td>2598.0</td>\n",
       "    </tr>\n",
       "    <tr>\n",
       "      <th>4</th>\n",
       "      <td>Allerød</td>\n",
       "      <td>2008</td>\n",
       "      <td>23515</td>\n",
       "      <td>5253</td>\n",
       "      <td>0.223389</td>\n",
       "      <td>2618.0</td>\n",
       "    </tr>\n",
       "    <tr>\n",
       "      <th>...</th>\n",
       "      <td>...</td>\n",
       "      <td>...</td>\n",
       "      <td>...</td>\n",
       "      <td>...</td>\n",
       "      <td>...</td>\n",
       "      <td>...</td>\n",
       "    </tr>\n",
       "    <tr>\n",
       "      <th>1595</th>\n",
       "      <td>Vejle</td>\n",
       "      <td>2023</td>\n",
       "      <td>120949</td>\n",
       "      <td>30525</td>\n",
       "      <td>0.252379</td>\n",
       "      <td>NaN</td>\n",
       "    </tr>\n",
       "    <tr>\n",
       "      <th>1596</th>\n",
       "      <td>Vesthimmerlands</td>\n",
       "      <td>2023</td>\n",
       "      <td>36431</td>\n",
       "      <td>11754</td>\n",
       "      <td>0.322637</td>\n",
       "      <td>NaN</td>\n",
       "    </tr>\n",
       "    <tr>\n",
       "      <th>1597</th>\n",
       "      <td>Viborg</td>\n",
       "      <td>2023</td>\n",
       "      <td>97731</td>\n",
       "      <td>27318</td>\n",
       "      <td>0.279522</td>\n",
       "      <td>NaN</td>\n",
       "    </tr>\n",
       "    <tr>\n",
       "      <th>1598</th>\n",
       "      <td>Vordingborg</td>\n",
       "      <td>2023</td>\n",
       "      <td>45441</td>\n",
       "      <td>16655</td>\n",
       "      <td>0.366519</td>\n",
       "      <td>NaN</td>\n",
       "    </tr>\n",
       "    <tr>\n",
       "      <th>1599</th>\n",
       "      <td>Ærø</td>\n",
       "      <td>2023</td>\n",
       "      <td>6008</td>\n",
       "      <td>2811</td>\n",
       "      <td>0.467876</td>\n",
       "      <td>NaN</td>\n",
       "    </tr>\n",
       "  </tbody>\n",
       "</table>\n",
       "<p>1600 rows × 6 columns</p>\n",
       "</div>"
      ],
      "text/plain": [
       "               OMRÅDE   TID  SAMLET BEFOLKNING  GAMLE     ANDEL  \\\n",
       "0            Aabenraa  2008              60284  14561  0.241540   \n",
       "1             Aalborg  2008             195145  42502  0.217797   \n",
       "2              Aarhus  2008             298711  53213  0.178142   \n",
       "3         Albertslund  2008              27566   5414  0.196401   \n",
       "4             Allerød  2008              23515   5253  0.223389   \n",
       "...               ...   ...                ...    ...       ...   \n",
       "1595            Vejle  2023             120949  30525  0.252379   \n",
       "1596  Vesthimmerlands  2023              36431  11754  0.322637   \n",
       "1597           Viborg  2023              97731  27318  0.279522   \n",
       "1598      Vordingborg  2023              45441  16655  0.366519   \n",
       "1599              Ærø  2023               6008   2811  0.467876   \n",
       "\n",
       "      SUNDHEDSUDGIFTER  \n",
       "0               2635.0  \n",
       "1               2393.0  \n",
       "2               2394.0  \n",
       "3               2598.0  \n",
       "4               2618.0  \n",
       "...                ...  \n",
       "1595               NaN  \n",
       "1596               NaN  \n",
       "1597               NaN  \n",
       "1598               NaN  \n",
       "1599               NaN  \n",
       "\n",
       "[1600 rows x 6 columns]"
      ]
     },
     "execution_count": 440,
     "metadata": {},
     "output_type": "execute_result"
    }
   ],
   "source": [
    "df_"
   ]
  },
  {
   "cell_type": "code",
   "execution_count": 442,
   "id": "c6dbeb41-85a0-4eba-9621-1f4d0beb1c1d",
   "metadata": {},
   "outputs": [
    {
     "name": "stderr",
     "output_type": "stream",
     "text": [
      "/Users/frederikfindsen/opt/anaconda3/lib/python3.8/site-packages/statsmodels/tsa/tsatools.py:142: FutureWarning: In a future version of pandas all arguments of concat except for the argument 'objs' will be keyword-only.\n",
      "  x = pd.concat(x[::order], 1)\n"
     ]
    },
    {
     "data": {
      "text/plain": [
       "const    2225.499602\n",
       "ANDEL    8706.244149\n",
       "Name: parameter, dtype: float64"
      ]
     },
     "execution_count": 442,
     "metadata": {},
     "output_type": "execute_result"
    }
   ],
   "source": [
    "#Regression\n",
    "df_reg = sm.add_constant(df_)\n",
    "df_reg = df_reg.set_index(['OMRÅDE','TID']).dropna()\n",
    "\n",
    "mod = PanelOLS(dependent = df_reg[['SUNDHEDSUDGIFTER']], \n",
    "                   exog = df_reg[['const','ANDEL']],\n",
    "                   entity_effects=True,\n",
    "                    time_effects=True,\n",
    "                   check_rank=False,\n",
    "                  drop_absorbed=True)\n",
    "    \n",
    "re_res = mod.fit(cov_type='robust')\n",
    "re_res.params"
   ]
  },
  {
   "cell_type": "code",
   "execution_count": 443,
   "id": "4a6cfe8c-b39a-4154-942b-d62efebae634",
   "metadata": {},
   "outputs": [
    {
     "data": {
      "application/vnd.jupyter.widget-view+json": {
       "model_id": "fcb65244c5194784aa13c58d4bb1f1a0",
       "version_major": 2,
       "version_minor": 0
      },
      "text/plain": [
       "GridBox(children=(IntSlider(value=2008, description='Year:', max=2023, min=2008), SelectMultiple(description='…"
      ]
     },
     "metadata": {},
     "output_type": "display_data"
    },
    {
     "data": {
      "text/plain": [
       "<Figure size 432x288 with 0 Axes>"
      ]
     },
     "metadata": {},
     "output_type": "display_data"
    }
   ],
   "source": [
    "def plot_graph1(change=None):\n",
    "    plot_graph_1(output_widget)\n",
    "\n",
    "def plot_graph2(change=None):\n",
    "    plot_graph_2(output_widget2)\n",
    "\n",
    "def plot_graph_1(output):\n",
    "    year = year_slider.value\n",
    "    municipal = municipal_slider.value\n",
    "    \n",
    "    # Filter the DataFrame based on the selected year and municipal\n",
    "    filtered_df = data[data['TID'] == year]\n",
    "    filtered_df = filtered_df[filtered_df['OMRÅDE'].isin(municipal)]\n",
    "\n",
    "    # Create the bar plot\n",
    "    plt.barh(filtered_df['ALDER'].unique(), filtered_df['INDHOLD'])\n",
    "    plt.title(f\"Values for year {year}\")\n",
    "    plt.xlabel(\"Antal\")\n",
    "    plt.ylabel(\"År\")\n",
    "    plt.tight_layout()\n",
    "\n",
    "    # Display the graph in the output widget\n",
    "    with output:\n",
    "        output.clear_output(wait=True)\n",
    "        display(plt.gcf())\n",
    "        \n",
    "    plt.clf()\n",
    "    \n",
    "def plot_graph_2(output):\n",
    "\n",
    "    year = year_slider.value\n",
    "    municipal = municipal_slider.value\n",
    "    \n",
    "    filtered_df = df_[df_['OMRÅDE'].isin(municipal)].dropna()\n",
    "    \n",
    "    xx = filtered_df['ANDEL']\n",
    "    yy = filtered_df['SUNDHEDSUDGIFTER']\n",
    "    \n",
    "    plt.scatter(xx,yy)\n",
    "    \n",
    "    plt.text(x=filtered_df['ANDEL'].min(), y=filtered_df['SUNDHEDSUDGIFTER'].max()+300, s=f'$Sundhedsudgifter_t$ = {round(re_res.params[0],2)} + {round(re_res.params[1],2)} $Andel_t$')\n",
    "\n",
    "    for i, txt in enumerate(filtered_df['TID'].unique()):\n",
    "        plt.annotate(txt, (xx.values[i], yy.values[i]))\n",
    "        \n",
    "    plt.xlabel('Share of population $\\geq$60 years')\n",
    "    plt.ylabel('Health care expenditure per capita, DKK')\n",
    "    \n",
    "    \n",
    "    ax = plt.gca()\n",
    "    ax.get_yaxis().set_major_formatter(matplotlib.ticker.FuncFormatter(lambda x, p: format(int(x), ',')))\n",
    "        \n",
    "    with output:\n",
    "        output.clear_output(wait=True)\n",
    "        display(plt.gcf())\n",
    "\n",
    "        \n",
    "    plt.clf()\n",
    "\n",
    "# Create the year slider\n",
    "year_slider = widgets.IntSlider(\n",
    "    value=data['TID'].min(),\n",
    "    min=data['TID'].min(),\n",
    "    max=data['TID'].max(),\n",
    "    step=1,\n",
    "    description=\"Year:\",\n",
    "    continuous_update=True,\n",
    ")\n",
    "\n",
    "# Create the municipal slider\n",
    "municipal_slider = widgets.SelectMultiple(\n",
    "    options=data['OMRÅDE'].unique(),\n",
    "    value=['Ærø'],\n",
    "    description='Municipal:',\n",
    "    disabled=False,\n",
    ")\n",
    "\n",
    "# Create the output widgets\n",
    "output_widget = widgets.Output()\n",
    "output_widget2 = widgets.Output()\n",
    "\n",
    "# Observe the slider changes and update the graphs\n",
    "year_slider.observe(plot_graph1, names='value')\n",
    "municipal_slider.observe(plot_graph1, names='value')\n",
    "\n",
    "year_slider.observe(plot_graph2, names='value')\n",
    "municipal_slider.observe(plot_graph2, names='value')\n",
    "\n",
    "# Create a 2x2 GridBox layout\n",
    "layout = widgets.GridBox(\n",
    "    children=[year_slider, municipal_slider, output_widget, output_widget2],\n",
    "    layout=widgets.Layout(\n",
    "        width='100%',\n",
    "        grid_template_columns='50% 50%',\n",
    "        grid_template_rows='25% 50%',\n",
    "        grid_gap='10px',\n",
    "        grid_template_areas='''\n",
    "            \"year_slider municipal_slider\"\n",
    "            \"output_widget output_widget2\"\n",
    "        ''')\n",
    ")\n",
    "\n",
    "# Initialize the graphs\n",
    "plot_graph1()\n",
    "plot_graph2()\n",
    "\n",
    "# Display the GridBox layout\n",
    "display(layout)\n",
    "\n",
    "\n"
   ]
  },
  {
   "cell_type": "code",
   "execution_count": 391,
   "id": "71529bf8-0ca1-4868-9fdb-177b47b17963",
   "metadata": {},
   "outputs": [
    {
     "ename": "NameError",
     "evalue": "name 'duncan_prestige' is not defined",
     "output_type": "error",
     "traceback": [
      "\u001b[0;31m---------------------------------------------------------------------------\u001b[0m",
      "\u001b[0;31mNameError\u001b[0m                                 Traceback (most recent call last)",
      "\u001b[0;32m/var/folders/s_/kppp_4wd5kgdzsjgp9xhfg280000gn/T/ipykernel_85984/3976637480.py\u001b[0m in \u001b[0;36m<module>\u001b[0;34m\u001b[0m\n\u001b[0;32m----> 1\u001b[0;31m \u001b[0mY\u001b[0m \u001b[0;34m=\u001b[0m \u001b[0mduncan_prestige\u001b[0m\u001b[0;34m.\u001b[0m\u001b[0mdata\u001b[0m\u001b[0;34m[\u001b[0m\u001b[0;34m'income'\u001b[0m\u001b[0;34m]\u001b[0m\u001b[0;34m\u001b[0m\u001b[0;34m\u001b[0m\u001b[0m\n\u001b[0m\u001b[1;32m      2\u001b[0m \u001b[0mX\u001b[0m \u001b[0;34m=\u001b[0m \u001b[0mduncan_prestige\u001b[0m\u001b[0;34m.\u001b[0m\u001b[0mdata\u001b[0m\u001b[0;34m[\u001b[0m\u001b[0;34m'education'\u001b[0m\u001b[0;34m]\u001b[0m\u001b[0;34m\u001b[0m\u001b[0;34m\u001b[0m\u001b[0m\n\u001b[1;32m      3\u001b[0m \u001b[0mX\u001b[0m \u001b[0;34m=\u001b[0m \u001b[0msm\u001b[0m\u001b[0;34m.\u001b[0m\u001b[0madd_constant\u001b[0m\u001b[0;34m(\u001b[0m\u001b[0mX\u001b[0m\u001b[0;34m)\u001b[0m\u001b[0;34m\u001b[0m\u001b[0;34m\u001b[0m\u001b[0m\n\u001b[1;32m      4\u001b[0m \u001b[0mmodel\u001b[0m \u001b[0;34m=\u001b[0m \u001b[0msm\u001b[0m\u001b[0;34m.\u001b[0m\u001b[0mOLS\u001b[0m\u001b[0;34m(\u001b[0m\u001b[0mY\u001b[0m\u001b[0;34m,\u001b[0m\u001b[0mX\u001b[0m\u001b[0;34m)\u001b[0m\u001b[0;34m\u001b[0m\u001b[0;34m\u001b[0m\u001b[0m\n\u001b[1;32m      5\u001b[0m \u001b[0mresults\u001b[0m \u001b[0;34m=\u001b[0m \u001b[0mmodel\u001b[0m\u001b[0;34m.\u001b[0m\u001b[0mfit\u001b[0m\u001b[0;34m(\u001b[0m\u001b[0;34m)\u001b[0m\u001b[0;34m\u001b[0m\u001b[0;34m\u001b[0m\u001b[0m\n",
      "\u001b[0;31mNameError\u001b[0m: name 'duncan_prestige' is not defined"
     ]
    }
   ],
   "source": [
    "Y = duncan_prestige.data['income']\n",
    "X = duncan_prestige.data['education']\n",
    "X = sm.add_constant(X)\n",
    "model = sm.OLS(Y,X)\n",
    "results = model.fit()\n",
    "results.params"
   ]
  },
  {
   "cell_type": "code",
   "execution_count": 408,
   "id": "f226ba52-94d0-4f62-b8aa-0032b0b50c1d",
   "metadata": {},
   "outputs": [
    {
     "name": "stderr",
     "output_type": "stream",
     "text": [
      "/Users/frederikfindsen/opt/anaconda3/lib/python3.8/site-packages/statsmodels/tsa/tsatools.py:142: FutureWarning: In a future version of pandas all arguments of concat except for the argument 'objs' will be keyword-only.\n",
      "  x = pd.concat(x[::order], 1)\n"
     ]
    }
   ],
   "source": [
    "\n",
    "\n",
    "xx = filtered_df['ANDEL']\n",
    "yy = filtered_df['SUNDHEDSUDGIFTER']\n",
    "\n",
    "Y = yy.dropna()\n",
    "X = xx.dropna()\n",
    "X = sm.add_constant(X)\n",
    "\n",
    "model = sm.OLS(Y,X)\n",
    "results = model.fit()"
   ]
  },
  {
   "cell_type": "code",
   "execution_count": 438,
   "id": "4fb22182-0691-4011-bcfe-b77b508cf58e",
   "metadata": {},
   "outputs": [
    {
     "name": "stderr",
     "output_type": "stream",
     "text": [
      "/Users/frederikfindsen/opt/anaconda3/lib/python3.8/site-packages/statsmodels/tsa/tsatools.py:142: FutureWarning: In a future version of pandas all arguments of concat except for the argument 'objs' will be keyword-only.\n",
      "  x = pd.concat(x[::order], 1)\n"
     ]
    },
    {
     "data": {
      "text/html": [
       "<table class=\"simpletable\">\n",
       "<caption>PanelOLS Estimation Summary</caption>\n",
       "<tr>\n",
       "  <th>Dep. Variable:</th>    <td>SUNDHEDSUDGIFTER</td> <th>  R-squared:         </th>    <td>0.1313</td>  \n",
       "</tr>\n",
       "<tr>\n",
       "  <th>Estimator:</th>            <td>PanelOLS</td>     <th>  R-squared (Between):</th>   <td>-0.2415</td> \n",
       "</tr>\n",
       "<tr>\n",
       "  <th>No. Observations:</th>       <td>1386</td>       <th>  R-squared (Within):</th>    <td>0.2363</td>  \n",
       "</tr>\n",
       "<tr>\n",
       "  <th>Date:</th>             <td>Sat, Apr 15 2023</td> <th>  R-squared (Overall):</th>   <td>0.1855</td>  \n",
       "</tr>\n",
       "<tr>\n",
       "  <th>Time:</th>                 <td>15:52:20</td>     <th>  Log-likelihood     </th>    <td>-9384.8</td> \n",
       "</tr>\n",
       "<tr>\n",
       "  <th>Cov. Estimator:</th>        <td>Robust</td>      <th>                     </th>       <td></td>     \n",
       "</tr>\n",
       "<tr>\n",
       "  <th></th>                          <td></td>         <th>  F-statistic:       </th>    <td>192.47</td>  \n",
       "</tr>\n",
       "<tr>\n",
       "  <th>Entities:</th>                <td>100</td>       <th>  P-value            </th>    <td>0.0000</td>  \n",
       "</tr>\n",
       "<tr>\n",
       "  <th>Avg Obs:</th>               <td>13.860</td>      <th>  Distribution:      </th>   <td>F(1,1273)</td>\n",
       "</tr>\n",
       "<tr>\n",
       "  <th>Min Obs:</th>               <td>0.0000</td>      <th>                     </th>       <td></td>     \n",
       "</tr>\n",
       "<tr>\n",
       "  <th>Max Obs:</th>               <td>14.000</td>      <th>  F-statistic (robust):</th>  <td>101.69</td>  \n",
       "</tr>\n",
       "<tr>\n",
       "  <th></th>                          <td></td>         <th>  P-value            </th>    <td>0.0000</td>  \n",
       "</tr>\n",
       "<tr>\n",
       "  <th>Time periods:</th>            <td>14</td>        <th>  Distribution:      </th>   <td>F(1,1273)</td>\n",
       "</tr>\n",
       "<tr>\n",
       "  <th>Avg Obs:</th>               <td>99.000</td>      <th>                     </th>       <td></td>     \n",
       "</tr>\n",
       "<tr>\n",
       "  <th>Min Obs:</th>               <td>99.000</td>      <th>                     </th>       <td></td>     \n",
       "</tr>\n",
       "<tr>\n",
       "  <th>Max Obs:</th>               <td>99.000</td>      <th>                     </th>       <td></td>     \n",
       "</tr>\n",
       "<tr>\n",
       "  <th></th>                          <td></td>         <th>                     </th>       <td></td>     \n",
       "</tr>\n",
       "</table>\n",
       "<table class=\"simpletable\">\n",
       "<caption>Parameter Estimates</caption>\n",
       "<tr>\n",
       "    <td></td>    <th>Parameter</th> <th>Std. Err.</th> <th>T-stat</th> <th>P-value</th> <th>Lower CI</th> <th>Upper CI</th>\n",
       "</tr>\n",
       "<tr>\n",
       "  <th>const</th>  <td>2225.5</td>    <td>233.31</td>   <td>9.5389</td> <td>0.0000</td>   <td>1767.8</td>   <td>2683.2</td> \n",
       "</tr>\n",
       "<tr>\n",
       "  <th>ANDEL</th>  <td>8706.2</td>    <td>863.36</td>   <td>10.084</td> <td>0.0000</td>   <td>7012.5</td>  <td>1.04e+04</td>\n",
       "</tr>\n",
       "</table><br/><br/>F-test for Poolability: 251.38<br/>P-value: 0.0000<br/>Distribution: F(111,1273)<br/><br/>Included effects: Entity, Time<br/>id: 0x7f803e34a970"
      ],
      "text/plain": [
       "                          PanelOLS Estimation Summary                           \n",
       "================================================================================\n",
       "Dep. Variable:       SUNDHEDSUDGIFTER   R-squared:                        0.1313\n",
       "Estimator:                   PanelOLS   R-squared (Between):             -0.2415\n",
       "No. Observations:                1386   R-squared (Within):               0.2363\n",
       "Date:                Sat, Apr 15 2023   R-squared (Overall):              0.1855\n",
       "Time:                        15:52:20   Log-likelihood                   -9384.8\n",
       "Cov. Estimator:                Robust                                           \n",
       "                                        F-statistic:                      192.47\n",
       "Entities:                         100   P-value                           0.0000\n",
       "Avg Obs:                       13.860   Distribution:                  F(1,1273)\n",
       "Min Obs:                       0.0000                                           \n",
       "Max Obs:                       14.000   F-statistic (robust):             101.69\n",
       "                                        P-value                           0.0000\n",
       "Time periods:                      14   Distribution:                  F(1,1273)\n",
       "Avg Obs:                       99.000                                           \n",
       "Min Obs:                       99.000                                           \n",
       "Max Obs:                       99.000                                           \n",
       "                                                                                \n",
       "                             Parameter Estimates                              \n",
       "==============================================================================\n",
       "            Parameter  Std. Err.     T-stat    P-value    Lower CI    Upper CI\n",
       "------------------------------------------------------------------------------\n",
       "const          2225.5     233.31     9.5389     0.0000      1767.8      2683.2\n",
       "ANDEL          8706.2     863.36     10.084     0.0000      7012.5    1.04e+04\n",
       "==============================================================================\n",
       "\n",
       "F-test for Poolability: 251.38\n",
       "P-value: 0.0000\n",
       "Distribution: F(111,1273)\n",
       "\n",
       "Included effects: Entity, Time\n",
       "PanelEffectsResults, id: 0x7f803e34a970"
      ]
     },
     "execution_count": 438,
     "metadata": {},
     "output_type": "execute_result"
    }
   ],
   "source": []
  },
  {
   "cell_type": "code",
   "execution_count": null,
   "id": "19f452c5-2f19-4c07-a5c4-f47af2a43471",
   "metadata": {},
   "outputs": [],
   "source": []
  }
 ],
 "metadata": {
  "kernelspec": {
   "display_name": "Python 3 (ipykernel)",
   "language": "python",
   "name": "python3"
  },
  "language_info": {
   "codemirror_mode": {
    "name": "ipython",
    "version": 3
   },
   "file_extension": ".py",
   "mimetype": "text/x-python",
   "name": "python",
   "nbconvert_exporter": "python",
   "pygments_lexer": "ipython3",
   "version": "3.8.12"
  },
  "vscode": {
   "interpreter": {
    "hash": "6431de17718b69329a5fdc8ec8a0d0daac3b636961074df198bba4bb10dc1643"
   }
  }
 },
 "nbformat": 4,
 "nbformat_minor": 5
}
